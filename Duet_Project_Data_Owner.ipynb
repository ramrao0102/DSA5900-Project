{
 "cells": [
  {
   "cell_type": "code",
   "execution_count": 1,
   "id": "unsigned-palace",
   "metadata": {},
   "outputs": [],
   "source": [
    "import syft as sy"
   ]
  },
  {
   "cell_type": "markdown",
   "id": "korean-bunch",
   "metadata": {},
   "source": [
    "# Part 1: Launch a Duet Server"
   ]
  },
  {
   "cell_type": "code",
   "execution_count": 2,
   "id": "plastic-ridge",
   "metadata": {
    "scrolled": true
   },
   "outputs": [
    {
     "name": "stdout",
     "output_type": "stream",
     "text": [
      "🎤  🎸  ♪♪♪ Starting Duet ♫♫♫  🎻  🎹\n",
      "\n",
      "♫♫♫ >\u001b[93m DISCLAIMER\u001b[0m: \u001b[1mDuet is an experimental feature currently in beta.\n",
      "♫♫♫ > Use at your own risk.\n",
      "\u001b[0m\n",
      "\u001b[1m\n",
      "    > ❤️ \u001b[91mLove\u001b[0m \u001b[92mDuet\u001b[0m? \u001b[93mPlease\u001b[0m \u001b[94mconsider\u001b[0m \u001b[95msupporting\u001b[0m \u001b[91mour\u001b[0m \u001b[93mcommunity!\u001b[0m\n",
      "    > https://github.com/sponsors/OpenMined\u001b[1m\n",
      "\n",
      "♫♫♫ > Punching through firewall to OpenGrid Network Node at:\n",
      "♫♫♫ > http://ec2-18-218-7-180.us-east-2.compute.amazonaws.com:5000\n",
      "♫♫♫ >\n",
      "♫♫♫ > ...waiting for response from OpenGrid Network... \n",
      "♫♫♫ > \u001b[92mDONE!\u001b[0m\n",
      "\n",
      "♫♫♫ > \u001b[95mSTEP 1:\u001b[0m Send the following code to your Duet Partner!\n",
      "\n",
      "import syft as sy\n",
      "duet = sy.join_duet(loopback=True)\n",
      "\n",
      "♫♫♫ > Connecting...\n",
      "\n",
      "♫♫♫ > \u001b[92mCONNECTED!\u001b[0m\n",
      "\n",
      "♫♫♫ > DUET LIVE STATUS  -  Objects: 8  Requests: 0   Messages: 14398  Request Handlers: 1                                                        \r"
     ]
    }
   ],
   "source": [
    "duet = sy.launch_duet(loopback=True)"
   ]
  },
  {
   "cell_type": "markdown",
   "id": "wrapped-eligibility",
   "metadata": {},
   "source": [
    "# Part 2: Upload data to Duet Server"
   ]
  },
  {
   "cell_type": "markdown",
   "id": "christian-point",
   "metadata": {},
   "source": [
    "Let's say the data owner has a dataset of Iris flowers. He will upload the data to the duet server for other data scientists to use."
   ]
  },
  {
   "cell_type": "code",
   "execution_count": 3,
   "id": "understood-aging",
   "metadata": {},
   "outputs": [],
   "source": [
    "import pandas as pd\n",
    "import numpy as np\n",
    "import csv\n",
    "from random import seed\n",
    "from csv import reader \n",
    "import torch"
   ]
  },
  {
   "cell_type": "code",
   "execution_count": 4,
   "id": "employed-momentum",
   "metadata": {},
   "outputs": [
    {
     "data": {
      "text/html": [
       "<div>\n",
       "<style scoped>\n",
       "    .dataframe tbody tr th:only-of-type {\n",
       "        vertical-align: middle;\n",
       "    }\n",
       "\n",
       "    .dataframe tbody tr th {\n",
       "        vertical-align: top;\n",
       "    }\n",
       "\n",
       "    .dataframe thead th {\n",
       "        text-align: right;\n",
       "    }\n",
       "</style>\n",
       "<table border=\"1\" class=\"dataframe\">\n",
       "  <thead>\n",
       "    <tr style=\"text-align: right;\">\n",
       "      <th></th>\n",
       "      <th>VerificationType</th>\n",
       "      <th>LanguageCode</th>\n",
       "      <th>Age</th>\n",
       "      <th>Gender</th>\n",
       "      <th>AppliedAmount</th>\n",
       "      <th>Amount</th>\n",
       "      <th>Interest</th>\n",
       "      <th>LoanDuration</th>\n",
       "      <th>MonthlyPayment</th>\n",
       "      <th>UseOfLoan</th>\n",
       "      <th>...</th>\n",
       "      <th>Rating_F</th>\n",
       "      <th>Rating_HR</th>\n",
       "      <th>Rating_nan</th>\n",
       "      <th>Status_Late</th>\n",
       "      <th>Status_Repaid</th>\n",
       "      <th>Status_nan</th>\n",
       "      <th>Restructured_True</th>\n",
       "      <th>Restructured_nan</th>\n",
       "      <th>diff_days</th>\n",
       "      <th>Defaulted</th>\n",
       "    </tr>\n",
       "  </thead>\n",
       "  <tbody>\n",
       "    <tr>\n",
       "      <th>0</th>\n",
       "      <td>4.0</td>\n",
       "      <td>1</td>\n",
       "      <td>0.807692</td>\n",
       "      <td>0.0</td>\n",
       "      <td>0.040555</td>\n",
       "      <td>0.040555</td>\n",
       "      <td>0.084342</td>\n",
       "      <td>0.282051</td>\n",
       "      <td>0.010116</td>\n",
       "      <td>9</td>\n",
       "      <td>...</td>\n",
       "      <td>0</td>\n",
       "      <td>0</td>\n",
       "      <td>0</td>\n",
       "      <td>1</td>\n",
       "      <td>0</td>\n",
       "      <td>0</td>\n",
       "      <td>0</td>\n",
       "      <td>0</td>\n",
       "      <td>1098.0</td>\n",
       "      <td>1</td>\n",
       "    </tr>\n",
       "    <tr>\n",
       "      <th>1</th>\n",
       "      <td>4.0</td>\n",
       "      <td>4</td>\n",
       "      <td>0.730769</td>\n",
       "      <td>0.0</td>\n",
       "      <td>0.039415</td>\n",
       "      <td>0.039415</td>\n",
       "      <td>0.053725</td>\n",
       "      <td>0.179487</td>\n",
       "      <td>0.011053</td>\n",
       "      <td>9</td>\n",
       "      <td>...</td>\n",
       "      <td>0</td>\n",
       "      <td>0</td>\n",
       "      <td>0</td>\n",
       "      <td>0</td>\n",
       "      <td>0</td>\n",
       "      <td>0</td>\n",
       "      <td>0</td>\n",
       "      <td>0</td>\n",
       "      <td>711.0</td>\n",
       "      <td>0</td>\n",
       "    </tr>\n",
       "    <tr>\n",
       "      <th>2</th>\n",
       "      <td>4.0</td>\n",
       "      <td>4</td>\n",
       "      <td>0.153846</td>\n",
       "      <td>0.0</td>\n",
       "      <td>0.088707</td>\n",
       "      <td>0.088707</td>\n",
       "      <td>0.033690</td>\n",
       "      <td>0.487179</td>\n",
       "      <td>0.010395</td>\n",
       "      <td>9</td>\n",
       "      <td>...</td>\n",
       "      <td>0</td>\n",
       "      <td>0</td>\n",
       "      <td>0</td>\n",
       "      <td>0</td>\n",
       "      <td>0</td>\n",
       "      <td>0</td>\n",
       "      <td>0</td>\n",
       "      <td>0</td>\n",
       "      <td>1819.0</td>\n",
       "      <td>0</td>\n",
       "    </tr>\n",
       "    <tr>\n",
       "      <th>3</th>\n",
       "      <td>1.0</td>\n",
       "      <td>4</td>\n",
       "      <td>0.461538</td>\n",
       "      <td>0.0</td>\n",
       "      <td>0.192041</td>\n",
       "      <td>0.192041</td>\n",
       "      <td>0.173468</td>\n",
       "      <td>0.487179</td>\n",
       "      <td>0.045083</td>\n",
       "      <td>9</td>\n",
       "      <td>...</td>\n",
       "      <td>0</td>\n",
       "      <td>1</td>\n",
       "      <td>0</td>\n",
       "      <td>1</td>\n",
       "      <td>0</td>\n",
       "      <td>0</td>\n",
       "      <td>1</td>\n",
       "      <td>0</td>\n",
       "      <td>2006.0</td>\n",
       "      <td>1</td>\n",
       "    </tr>\n",
       "    <tr>\n",
       "      <th>4</th>\n",
       "      <td>4.0</td>\n",
       "      <td>3</td>\n",
       "      <td>0.384615</td>\n",
       "      <td>1.0</td>\n",
       "      <td>0.454744</td>\n",
       "      <td>0.454744</td>\n",
       "      <td>0.039175</td>\n",
       "      <td>0.487179</td>\n",
       "      <td>0.057208</td>\n",
       "      <td>9</td>\n",
       "      <td>...</td>\n",
       "      <td>0</td>\n",
       "      <td>0</td>\n",
       "      <td>0</td>\n",
       "      <td>0</td>\n",
       "      <td>0</td>\n",
       "      <td>0</td>\n",
       "      <td>1</td>\n",
       "      <td>0</td>\n",
       "      <td>2564.0</td>\n",
       "      <td>0</td>\n",
       "    </tr>\n",
       "  </tbody>\n",
       "</table>\n",
       "<p>5 rows × 72 columns</p>\n",
       "</div>"
      ],
      "text/plain": [
       "   VerificationType  LanguageCode       Age  Gender  AppliedAmount    Amount  \\\n",
       "0               4.0             1  0.807692     0.0       0.040555  0.040555   \n",
       "1               4.0             4  0.730769     0.0       0.039415  0.039415   \n",
       "2               4.0             4  0.153846     0.0       0.088707  0.088707   \n",
       "3               1.0             4  0.461538     0.0       0.192041  0.192041   \n",
       "4               4.0             3  0.384615     1.0       0.454744  0.454744   \n",
       "\n",
       "   Interest  LoanDuration  MonthlyPayment  UseOfLoan  ...  Rating_F  \\\n",
       "0  0.084342      0.282051        0.010116          9  ...         0   \n",
       "1  0.053725      0.179487        0.011053          9  ...         0   \n",
       "2  0.033690      0.487179        0.010395          9  ...         0   \n",
       "3  0.173468      0.487179        0.045083          9  ...         0   \n",
       "4  0.039175      0.487179        0.057208          9  ...         0   \n",
       "\n",
       "   Rating_HR  Rating_nan  Status_Late  Status_Repaid  Status_nan  \\\n",
       "0          0           0            1              0           0   \n",
       "1          0           0            0              0           0   \n",
       "2          0           0            0              0           0   \n",
       "3          1           0            1              0           0   \n",
       "4          0           0            0              0           0   \n",
       "\n",
       "   Restructured_True  Restructured_nan  diff_days  Defaulted  \n",
       "0                  0                 0     1098.0          1  \n",
       "1                  0                 0      711.0          0  \n",
       "2                  0                 0     1819.0          0  \n",
       "3                  1                 0     2006.0          1  \n",
       "4                  1                 0     2564.0          0  \n",
       "\n",
       "[5 rows x 72 columns]"
      ]
     },
     "execution_count": 4,
     "metadata": {},
     "output_type": "execute_result"
    }
   ],
   "source": [
    "project_train = pd.read_csv(\"C:/Data Science and Analytics/DSA 5900/Final Deliverable/Train.csv\")\n",
    "project_train.drop(['Unnamed: 0'] , axis = 1, inplace =True)\n",
    "\n",
    "project_train = project_train.dropna()\n",
    "project_train.head()"
   ]
  },
  {
   "cell_type": "code",
   "execution_count": 5,
   "id": "3e285b06",
   "metadata": {},
   "outputs": [],
   "source": [
    "X_train = project_train.loc[:, project_train.columns != \"Defaulted\"]\n",
    "y_train = project_train[\"Defaulted\"]"
   ]
  },
  {
   "cell_type": "code",
   "execution_count": 6,
   "id": "ca4fff67",
   "metadata": {},
   "outputs": [],
   "source": [
    "X_train = torch.FloatTensor(np.array(X_train))\n",
    "y_train = torch.LongTensor(np.array(y_train))"
   ]
  },
  {
   "cell_type": "code",
   "execution_count": 7,
   "id": "royal-hacker",
   "metadata": {},
   "outputs": [
    {
     "name": "stdout",
     "output_type": "stream",
     "text": [
      "data:\n",
      "tensor([[4.0000e+00, 1.0000e+00, 8.0769e-01, 0.0000e+00, 4.0555e-02, 4.0555e-02,\n",
      "         8.4342e-02, 2.8205e-01, 1.0116e-02, 9.0000e+00, 1.0000e+00, 6.0000e+00,\n",
      "         7.0000e+00, 2.0000e+01, 1.0000e+01, 0.0000e+00, 0.0000e+00, 0.0000e+00,\n",
      "         0.0000e+00, 0.0000e+00, 0.0000e+00, 0.0000e+00, 3.7539e-04, 0.0000e+00,\n",
      "         0.0000e+00, 0.0000e+00, 0.0000e+00, 4.8437e-04, 2.5806e-01, 3.5454e-02,\n",
      "         1.1207e-01, 7.0716e-01, 5.8218e-01, 1.8430e-01, 4.8012e-02, 5.0000e+00,\n",
      "         1.8463e-03, 1.2813e-03, 4.8003e-02, 0.0000e+00, 0.0000e+00, 0.0000e+00,\n",
      "         1.0000e+00, 0.0000e+00, 0.0000e+00, 0.0000e+00, 0.0000e+00, 1.0000e+00,\n",
      "         0.0000e+00, 0.0000e+00, 0.0000e+00, 0.0000e+00, 0.0000e+00, 0.0000e+00,\n",
      "         0.0000e+00, 1.0000e+00, 0.0000e+00, 0.0000e+00, 0.0000e+00, 0.0000e+00,\n",
      "         1.0000e+00, 0.0000e+00, 0.0000e+00, 0.0000e+00, 0.0000e+00, 1.0000e+00,\n",
      "         0.0000e+00, 0.0000e+00, 0.0000e+00, 0.0000e+00, 1.0980e+03],\n",
      "        [4.0000e+00, 4.0000e+00, 7.3077e-01, 0.0000e+00, 3.9415e-02, 3.9415e-02,\n",
      "         5.3725e-02, 1.7949e-01, 1.1053e-02, 9.0000e+00, 1.0000e+00, 6.0000e+00,\n",
      "         7.0000e+00, 2.0000e+01, 3.0000e+00, 0.0000e+00, 0.0000e+00, 0.0000e+00,\n",
      "         0.0000e+00, 0.0000e+00, 0.0000e+00, 0.0000e+00, 1.1856e-03, 5.0000e-02,\n",
      "         8.6282e-06, 0.0000e+00, 0.0000e+00, 4.8437e-04, 6.7742e-01, 6.1697e-03,\n",
      "         6.9775e-02, 7.9705e-01, 5.6003e-01, 8.9197e-02, 0.0000e+00, 6.0000e+00,\n",
      "         8.6748e-03, 1.7489e-03, 4.0046e-02, 1.0000e+00, 1.7127e-02, 0.0000e+00,\n",
      "         1.0000e+00, 0.0000e+00, 1.0000e+00, 0.0000e+00, 1.0000e+00, 0.0000e+00,\n",
      "         0.0000e+00, 0.0000e+00, 0.0000e+00, 0.0000e+00, 0.0000e+00, 0.0000e+00,\n",
      "         0.0000e+00, 1.0000e+00, 0.0000e+00, 0.0000e+00, 0.0000e+00, 1.0000e+00,\n",
      "         0.0000e+00, 0.0000e+00, 0.0000e+00, 0.0000e+00, 0.0000e+00, 0.0000e+00,\n",
      "         0.0000e+00, 0.0000e+00, 0.0000e+00, 0.0000e+00, 7.1100e+02],\n",
      "        [4.0000e+00, 4.0000e+00, 1.5385e-01, 0.0000e+00, 8.8707e-02, 8.8707e-02,\n",
      "         3.3690e-02, 4.8718e-01, 1.0395e-02, 9.0000e+00, 5.0000e+00, 6.0000e+00,\n",
      "         7.0000e+00, 2.0000e+01, 3.0000e+00, 0.0000e+00, 0.0000e+00, 0.0000e+00,\n",
      "         0.0000e+00, 0.0000e+00, 0.0000e+00, 0.0000e+00, 2.2232e-03, 1.0000e-01,\n",
      "         2.1774e-05, 0.0000e+00, 0.0000e+00, 4.8437e-04, 9.6774e-02, 1.5807e-03,\n",
      "         5.6476e-02, 7.8429e-01, 5.5078e-01, 7.3485e-02, 0.0000e+00, 6.0000e+00,\n",
      "         2.2225e-03, 1.1839e-03, 9.5313e-02, 0.0000e+00, 0.0000e+00, 0.0000e+00,\n",
      "         1.0000e+00, 0.0000e+00, 1.0000e+00, 0.0000e+00, 0.0000e+00, 0.0000e+00,\n",
      "         0.0000e+00, 0.0000e+00, 0.0000e+00, 0.0000e+00, 0.0000e+00, 1.0000e+00,\n",
      "         0.0000e+00, 1.0000e+00, 0.0000e+00, 0.0000e+00, 0.0000e+00, 1.0000e+00,\n",
      "         0.0000e+00, 0.0000e+00, 0.0000e+00, 0.0000e+00, 0.0000e+00, 0.0000e+00,\n",
      "         0.0000e+00, 0.0000e+00, 0.0000e+00, 0.0000e+00, 1.8190e+03],\n",
      "        [1.0000e+00, 4.0000e+00, 4.6154e-01, 0.0000e+00, 1.9204e-01, 1.9204e-01,\n",
      "         1.7347e-01, 4.8718e-01, 4.5083e-02, 9.0000e+00, 5.0000e+00, 6.0000e+00,\n",
      "         7.0000e+00, 2.0000e+01, 3.0000e+00, 0.0000e+00, 0.0000e+00, 0.0000e+00,\n",
      "         0.0000e+00, 0.0000e+00, 0.0000e+00, 0.0000e+00, 2.8704e-03, 5.0000e-02,\n",
      "         2.6036e-05, 0.0000e+00, 0.0000e+00, 4.8437e-04, 3.2258e-02, 2.5870e-02,\n",
      "         3.0646e-01, 0.0000e+00, 5.9693e-01, 4.2349e-01, 3.4130e-02, 6.0000e+00,\n",
      "         7.2047e-03, 4.1642e-02, 1.9266e-01, 1.0000e+00, 4.6779e-02, 0.0000e+00,\n",
      "         1.0000e+00, 0.0000e+00, 1.0000e+00, 0.0000e+00, 0.0000e+00, 0.0000e+00,\n",
      "         0.0000e+00, 1.0000e+00, 0.0000e+00, 0.0000e+00, 0.0000e+00, 0.0000e+00,\n",
      "         0.0000e+00, 1.0000e+00, 0.0000e+00, 0.0000e+00, 0.0000e+00, 0.0000e+00,\n",
      "         0.0000e+00, 0.0000e+00, 0.0000e+00, 1.0000e+00, 0.0000e+00, 1.0000e+00,\n",
      "         0.0000e+00, 0.0000e+00, 1.0000e+00, 0.0000e+00, 2.0060e+03],\n",
      "        [4.0000e+00, 3.0000e+00, 3.8462e-01, 1.0000e+00, 4.5474e-01, 4.5474e-01,\n",
      "         3.9175e-02, 4.8718e-01, 5.7208e-02, 9.0000e+00, 4.0000e+00, 6.0000e+00,\n",
      "         7.0000e+00, 2.0000e+01, 5.0000e+00, 0.0000e+00, 0.0000e+00, 0.0000e+00,\n",
      "         0.0000e+00, 0.0000e+00, 0.0000e+00, 0.0000e+00, 1.4821e-03, 7.5000e-02,\n",
      "         2.1885e-05, 0.0000e+00, 0.0000e+00, 4.8437e-04, 7.4194e-01, 0.0000e+00,\n",
      "         4.2633e-02, 5.4232e-01, 5.5899e-01, 8.0498e-02, 0.0000e+00, 6.0000e+00,\n",
      "         2.0260e-02, 4.8405e-02, 4.3977e-01, 3.0000e+00, 8.4247e-02, 0.0000e+00,\n",
      "         0.0000e+00, 0.0000e+00, 0.0000e+00, 0.0000e+00, 0.0000e+00, 0.0000e+00,\n",
      "         0.0000e+00, 0.0000e+00, 0.0000e+00, 0.0000e+00, 0.0000e+00, 1.0000e+00,\n",
      "         0.0000e+00, 1.0000e+00, 0.0000e+00, 0.0000e+00, 1.0000e+00, 0.0000e+00,\n",
      "         0.0000e+00, 0.0000e+00, 0.0000e+00, 0.0000e+00, 0.0000e+00, 0.0000e+00,\n",
      "         0.0000e+00, 0.0000e+00, 1.0000e+00, 0.0000e+00, 2.5640e+03]])\n"
     ]
    }
   ],
   "source": [
    "print(\"data:\")\n",
    "print(X_train[0:5])"
   ]
  },
  {
   "cell_type": "code",
   "execution_count": 8,
   "id": "theoretical-ownership",
   "metadata": {},
   "outputs": [
    {
     "name": "stdout",
     "output_type": "stream",
     "text": [
      "target:\n",
      "tensor([1, 0, 0,  ..., 0, 0, 0])\n"
     ]
    }
   ],
   "source": [
    "print(\"target:\")\n",
    "print(y_train)"
   ]
  },
  {
   "cell_type": "code",
   "execution_count": 9,
   "id": "occasional-secretary",
   "metadata": {},
   "outputs": [
    {
     "name": "stdout",
     "output_type": "stream",
     "text": [
      "Length of dataset: 8360\n"
     ]
    }
   ],
   "source": [
    "print(\"Length of dataset:\", len(X_train))"
   ]
  },
  {
   "cell_type": "code",
   "execution_count": 10,
   "id": "numerical-carry",
   "metadata": {},
   "outputs": [
    {
     "name": "stdout",
     "output_type": "stream",
     "text": [
      "<class 'torch.Tensor'>\n"
     ]
    }
   ],
   "source": [
    "print(type(X_train))"
   ]
  },
  {
   "cell_type": "code",
   "execution_count": 11,
   "id": "9dea7887",
   "metadata": {},
   "outputs": [
    {
     "name": "stdout",
     "output_type": "stream",
     "text": [
      "<class 'torch.Tensor'>\n"
     ]
    }
   ],
   "source": [
    "print(type(y_train))"
   ]
  },
  {
   "cell_type": "markdown",
   "id": "configured-growth",
   "metadata": {},
   "source": [
    "For doing machine learning using torch, we need the data to be converted to FloatTensors. Here, the data owner is explicitly doing the conversion before uploading the data. If he doesn't do that, it has to be converted in the data scientist's end as you've seen in the previous exercise."
   ]
  },
  {
   "cell_type": "code",
   "execution_count": 12,
   "id": "assured-clinton",
   "metadata": {},
   "outputs": [],
   "source": [
    "X_train = X_train.tag(\"Loan-data\")\n",
    "y_train = y_train.tag(\"Loan-target\")\n",
    "\n",
    "X_train = X_train.describe(\n",
    "    \"This is a train dataset for Credit Default classification.\" \n",
    "    \n",
    ")\n",
    "y_train = y_train.describe(\"Labels for Defaulted: No, Yes\")"
   ]
  },
  {
   "cell_type": "code",
   "execution_count": 13,
   "id": "floating-kingston",
   "metadata": {},
   "outputs": [
    {
     "name": "stdout",
     "output_type": "stream",
     "text": [
      "`searchable` is deprecated please use `pointable` in future\n",
      "`searchable` is deprecated please use `pointable` in future\n"
     ]
    }
   ],
   "source": [
    "data_pointer = X_train .send(duet, searchable=True)\n",
    "target_pointer = y_train.send(duet, searchable=True)"
   ]
  },
  {
   "cell_type": "code",
   "execution_count": 14,
   "id": "italic-zoning",
   "metadata": {},
   "outputs": [
    {
     "data": {
      "text/plain": [
       "[<syft.proxy.torch.TensorPointer object at 0x000001BF23CA7430>, <syft.proxy.torch.TensorPointer object at 0x000001BF23CA79A0>]"
      ]
     },
     "execution_count": 14,
     "metadata": {},
     "output_type": "execute_result"
    }
   ],
   "source": [
    "# Once uploaded, the data owner can see the object stored in the tensor\n",
    "duet.store"
   ]
  },
  {
   "cell_type": "code",
   "execution_count": 15,
   "id": "dynamic-harrison",
   "metadata": {},
   "outputs": [
    {
     "data": {
      "text/html": [
       "<div>\n",
       "<style scoped>\n",
       "    .dataframe tbody tr th:only-of-type {\n",
       "        vertical-align: middle;\n",
       "    }\n",
       "\n",
       "    .dataframe tbody tr th {\n",
       "        vertical-align: top;\n",
       "    }\n",
       "\n",
       "    .dataframe thead th {\n",
       "        text-align: right;\n",
       "    }\n",
       "</style>\n",
       "<table border=\"1\" class=\"dataframe\">\n",
       "  <thead>\n",
       "    <tr style=\"text-align: right;\">\n",
       "      <th></th>\n",
       "      <th>ID</th>\n",
       "      <th>Tags</th>\n",
       "      <th>Description</th>\n",
       "      <th>object_type</th>\n",
       "    </tr>\n",
       "  </thead>\n",
       "  <tbody>\n",
       "    <tr>\n",
       "      <th>0</th>\n",
       "      <td>&lt;UID: 316abc252b444dcda79505d17c77be45&gt;</td>\n",
       "      <td>[Loan-data]</td>\n",
       "      <td>This is a train dataset for Credit Default cla...</td>\n",
       "      <td>&lt;class 'torch.Tensor'&gt;</td>\n",
       "    </tr>\n",
       "    <tr>\n",
       "      <th>1</th>\n",
       "      <td>&lt;UID: dbff274fcc8e41258f0a7587cfc4d517&gt;</td>\n",
       "      <td>[Loan-target]</td>\n",
       "      <td>Labels for Defaulted: No, Yes</td>\n",
       "      <td>&lt;class 'torch.Tensor'&gt;</td>\n",
       "    </tr>\n",
       "  </tbody>\n",
       "</table>\n",
       "</div>"
      ],
      "text/plain": [
       "                                        ID           Tags  \\\n",
       "0  <UID: 316abc252b444dcda79505d17c77be45>    [Loan-data]   \n",
       "1  <UID: dbff274fcc8e41258f0a7587cfc4d517>  [Loan-target]   \n",
       "\n",
       "                                         Description             object_type  \n",
       "0  This is a train dataset for Credit Default cla...  <class 'torch.Tensor'>  \n",
       "1                      Labels for Defaulted: No, Yes  <class 'torch.Tensor'>  "
      ]
     },
     "execution_count": 15,
     "metadata": {},
     "output_type": "execute_result"
    }
   ],
   "source": [
    "# To see it in a human-readable format, data owner can also pretty-print the tensor information\n",
    "duet.store.pandas"
   ]
  },
  {
   "cell_type": "markdown",
   "id": "extreme-specific",
   "metadata": {},
   "source": [
    "# Part 3: Response to requests coming from Data Scientist"
   ]
  },
  {
   "cell_type": "markdown",
   "id": "about-career",
   "metadata": {},
   "source": [
    "The data owner can add requests to be accepted or denied by adding them to request handlers. If he doesn't specify a `name`, then all the requests will be accepted."
   ]
  },
  {
   "cell_type": "code",
   "execution_count": 16,
   "id": "operational-exercise",
   "metadata": {},
   "outputs": [],
   "source": [
    "duet.requests.add_handler(action=\"accept\")"
   ]
  },
  {
   "cell_type": "markdown",
   "id": "incident-intervention",
   "metadata": {},
   "source": [
    "### <img src=\"https://github.com/OpenMined/design-assets/raw/master/logos/OM/mark-primary-light.png\" alt=\"he-black-box\" width=\"100\"/> Checkpoint 1 : Well done!"
   ]
  }
 ],
 "metadata": {
  "kernelspec": {
   "display_name": "Python 3 (ipykernel)",
   "language": "python",
   "name": "python3"
  },
  "language_info": {
   "codemirror_mode": {
    "name": "ipython",
    "version": 3
   },
   "file_extension": ".py",
   "mimetype": "text/x-python",
   "name": "python",
   "nbconvert_exporter": "python",
   "pygments_lexer": "ipython3",
   "version": "3.9.12"
  }
 },
 "nbformat": 4,
 "nbformat_minor": 5
}
