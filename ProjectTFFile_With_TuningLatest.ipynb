{
  "cells": [
    {
      "cell_type": "markdown",
      "metadata": {
        "id": "eGDp-P08VWxL"
      },
      "source": [
        "This is Ramkishore Rao's Project - Application of Tensor Flow and Keras for Loan Dataset.  This one includes sckit learn's gridsearchCV for\n",
        "hyperparameter tuning"
      ]
    },
    {
      "cell_type": "code",
      "execution_count": 2,
      "metadata": {
        "id": "Z63s5TD4VWRk"
      },
      "outputs": [],
      "source": [
        "import tensorflow.keras\n",
        "from tensorflow . keras .models import Sequential\n",
        "from tensorflow . keras . layers import Dense , Activation\n",
        "from tensorflow . keras . callbacks import EarlyStopping\n",
        "from sklearn . model_selection import train_test_split"
      ]
    },
    {
      "cell_type": "code",
      "execution_count": 3,
      "metadata": {
        "id": "M7F7rUn0VmSV"
      },
      "outputs": [],
      "source": [
        "import numpy as np\n",
        "import pandas as pd\n",
        "from sklearn import metrics\n",
        "import sklearn\n",
        "from sklearn.model_selection import train_test_split\n",
        "import io\n",
        "import requests\n",
        "from sklearn.metrics import RocCurveDisplay\n",
        "from sklearn.metrics import mean_squared_error\n",
        "from sklearn.metrics import roc_curve, auc\n",
        "import matplotlib.pyplot as plt\n",
        "from sklearn.model_selection import StratifiedKFold\n",
        "from keras.wrappers.scikit_learn import KerasClassifier\n",
        "from sklearn.model_selection import GridSearchCV\n",
        "\n"
      ]
    },
    {
      "cell_type": "code",
      "execution_count": 3,
      "metadata": {
        "colab": {
          "base_uri": "https://localhost:8080/"
        },
        "id": "e4PI0BBdkE7p",
        "outputId": "df9f21f5-de2a-4e37-b0a8-d7de432ff72c"
      },
      "outputs": [
        {
          "output_type": "stream",
          "name": "stdout",
          "text": [
            "Looking in indexes: https://pypi.org/simple, https://us-python.pkg.dev/colab-wheels/public/simple/\n",
            "Collecting theano\n",
            "  Downloading Theano-1.0.5.tar.gz (2.8 MB)\n",
            "\u001b[K     |████████████████████████████████| 2.8 MB 8.0 MB/s \n",
            "\u001b[?25hRequirement already satisfied: numpy>=1.9.1 in /usr/local/lib/python3.7/dist-packages (from theano) (1.21.6)\n",
            "Requirement already satisfied: scipy>=0.14 in /usr/local/lib/python3.7/dist-packages (from theano) (1.4.1)\n",
            "Requirement already satisfied: six>=1.9.0 in /usr/local/lib/python3.7/dist-packages (from theano) (1.15.0)\n",
            "Building wheels for collected packages: theano\n",
            "  Building wheel for theano (setup.py) ... \u001b[?25l\u001b[?25hdone\n",
            "  Created wheel for theano: filename=Theano-1.0.5-py3-none-any.whl size=2668111 sha256=074b638018ff2093232b61a4d8006192dc326befda5871dfc7edbdd8920e41a8\n",
            "  Stored in directory: /root/.cache/pip/wheels/26/68/6f/745330367ce7822fe0cd863712858151f5723a0a5e322cc144\n",
            "Successfully built theano\n",
            "Installing collected packages: theano\n",
            "Successfully installed theano-1.0.5\n"
          ]
        }
      ],
      "source": [
        "!pip install theano"
      ]
    },
    {
      "cell_type": "code",
      "execution_count": 4,
      "metadata": {
        "id": "mkFu3gdwVmZU"
      },
      "outputs": [],
      "source": [
        "df = pd.read_csv('/content/initialmodel2.csv', on_bad_lines=\"skip\", engine=\"python\")\n"
      ]
    },
    {
      "cell_type": "code",
      "execution_count": 5,
      "metadata": {
        "colab": {
          "base_uri": "https://localhost:8080/"
        },
        "id": "xGCcFtXipn9e",
        "outputId": "d5d6635b-fb24-479f-e27b-69439ba57dfb"
      },
      "outputs": [
        {
          "output_type": "execute_result",
          "data": {
            "text/plain": [
              "209011"
            ]
          },
          "metadata": {},
          "execution_count": 5
        }
      ],
      "source": [
        "df.head()\n",
        "len(df)"
      ]
    },
    {
      "cell_type": "code",
      "execution_count": 6,
      "metadata": {
        "colab": {
          "base_uri": "https://localhost:8080/"
        },
        "id": "bkEuRwa6poFk",
        "outputId": "c821bd73-3b18-4f48-9251-7503cc6c8884"
      },
      "outputs": [
        {
          "output_type": "stream",
          "name": "stdout",
          "text": [
            "   VerificationType  LanguageCode       Age  Gender  AppliedAmount    Amount  \\\n",
            "0               4.0             1  0.673077     1.0       0.192041  0.192041   \n",
            "1               1.0             1  0.615385     1.0       0.275145  0.275145   \n",
            "2               4.0             1  0.500000     0.0       0.999810  0.854497   \n",
            "3               3.0             6  0.461538     0.0       0.132681  0.132681   \n",
            "4               4.0             6  0.307692     1.0       0.141704  0.093741   \n",
            "\n",
            "   Interest  LoanDuration  MonthlyPayment  UseOfLoan  ...  Rating_F  \\\n",
            "0  0.053336      0.487179        0.026198          2  ...         0   \n",
            "1  0.038358      0.487179        0.035782          3  ...         0   \n",
            "2  0.024937      0.487179        0.113391          3  ...         0   \n",
            "3  0.128924      0.487179        0.026822          2  ...         1   \n",
            "4  0.237814      0.384615        0.042723          7  ...         0   \n",
            "\n",
            "   Rating_HR  Rating_nan  Status_Late  Status_Repaid  Status_nan  \\\n",
            "0          0           0            1              0           0   \n",
            "1          0           0            1              0           0   \n",
            "2          0           0            0              1           0   \n",
            "3          0           0            1              0           0   \n",
            "4          1           0            1              0           0   \n",
            "\n",
            "   Restructured_True  Restructured_nan  diff_days  Defaulted  \n",
            "0                  0                 0     1556.0          1  \n",
            "1                  0                 0     1849.0          1  \n",
            "2                  0                 0     1828.0          1  \n",
            "3                  0                 0     1832.0          1  \n",
            "4                  0                 0     1472.0          1  \n",
            "\n",
            "[5 rows x 72 columns]\n"
          ]
        }
      ],
      "source": [
        "df1 = df.pop('Defaulted')\n",
        "\n",
        "df['Defaulted'] = df1\n",
        "\n",
        "df.drop(['Unnamed: 0'] , axis = 1, inplace =True)\n",
        "\n",
        "df = df.dropna()\n",
        "print(df.head())\n",
        "\n"
      ]
    },
    {
      "cell_type": "markdown",
      "metadata": {
        "id": "XSmNN0uTsRn0"
      },
      "source": [
        "Split dataframe into X and y"
      ]
    },
    {
      "cell_type": "code",
      "source": [
        "df = df.iloc[0:20000] # let's take a subset of the dataset as the neural net takes long to execute"
      ],
      "metadata": {
        "id": "6RVQXFa51G8g"
      },
      "execution_count": 7,
      "outputs": []
    },
    {
      "cell_type": "code",
      "execution_count": 26,
      "metadata": {
        "id": "Vg_t1e7Xq9Ol"
      },
      "outputs": [],
      "source": [
        "X = df.iloc[:, :-1]\n",
        "X1= df.iloc[:, :-1]\n",
        "\n",
        "Y = df.iloc[:,-1].astype(int)\n",
        "\n",
        "# Split into train and test\n",
        "\n",
        "X_train, X_test, y_train, y_test = train_test_split(X, Y, random_state = 1, test_size = 0.2)\n"
      ]
    },
    {
      "cell_type": "markdown",
      "metadata": {
        "id": "gJEJSBUvstPd"
      },
      "source": [
        "Split train into train1 and val1"
      ]
    },
    {
      "cell_type": "code",
      "execution_count": 27,
      "metadata": {
        "id": "W5JdPoVTq9ex"
      },
      "outputs": [],
      "source": [
        "X_train1, X_val1, y_train1, y_val1 = train_test_split(X_train, y_train, random_state = 1, test_size = 0.15)\n"
      ]
    },
    {
      "cell_type": "code",
      "source": [
        "X = X_train.to_numpy()\n",
        "y = y_train.to_numpy()"
      ],
      "metadata": {
        "id": "llDjdJ2qxG4O"
      },
      "execution_count": 28,
      "outputs": []
    },
    {
      "cell_type": "code",
      "source": [
        "len(X)"
      ],
      "metadata": {
        "colab": {
          "base_uri": "https://localhost:8080/"
        },
        "id": "-VCb6vYbyx44",
        "outputId": "50a46def-cbd9-4d29-fb19-932891fd1ece"
      },
      "execution_count": 29,
      "outputs": [
        {
          "output_type": "execute_result",
          "data": {
            "text/plain": [
              "16000"
            ]
          },
          "metadata": {},
          "execution_count": 29
        }
      ]
    },
    {
      "cell_type": "code",
      "source": [
        "len(y)"
      ],
      "metadata": {
        "colab": {
          "base_uri": "https://localhost:8080/"
        },
        "id": "Ng2wT37EyyEA",
        "outputId": "f4c02a0a-e300-411b-b4a4-c46fcc964175"
      },
      "execution_count": 30,
      "outputs": [
        {
          "output_type": "execute_result",
          "data": {
            "text/plain": [
              "16000"
            ]
          },
          "metadata": {},
          "execution_count": 30
        }
      ]
    },
    {
      "cell_type": "code",
      "execution_count": 31,
      "metadata": {
        "id": "tpZs5VkisuiH"
      },
      "outputs": [],
      "source": [
        "def create_model (optimizer = 'rmsprop', init = 'glorot_uniform'):\n",
        "  model = Sequential()\n",
        "  model.add(Dense(100, input_dim=X.shape[1], activation='relu',\n",
        "                  kernel_initializer=init))\n",
        "  model.add(Dense(50,activation='relu',kernel_initializer= init))\n",
        "  model.add(Dense(25,activation='relu',kernel_initializer=init))\n",
        "  model.add(Dense(1,activation='sigmoid',kernel_initializer=init))\n",
        "\n",
        "# Compile Model \n",
        "\n",
        "  model.compile(loss='binary_crossentropy', \n",
        "                optimizer= optimizer,\n",
        "                metrics =['accuracy'])\n",
        "  return model\n",
        "\n",
        "\n"
      ]
    },
    {
      "cell_type": "code",
      "source": [
        "# create model\n",
        "\n",
        "model = KerasClassifier(build_fn = create_model, verbose = 0)\n",
        "\n",
        "# grid search, epochs, batch size and optimizer with sckitlearn's gridsearchCV\n",
        "\n",
        "optimizers = ['rmsprop', 'adam']\n",
        "inits = ['glorot_uniform', 'normal', 'uniform']\n",
        "epochs = [50, 150]\n",
        "batches = [5, 20]\n",
        "\n",
        "param_grid = dict(optimizer = optimizers, epochs = epochs, batch_size = batches, init = inits)\n",
        "grid = GridSearchCV(estimator = model, param_grid = param_grid, cv =3)\n",
        "grid_result = grid.fit(X,y)\n",
        "\n",
        "# summarize results\n",
        "\n",
        "print(\"Best %f using %s\" % (grid_result.best_score_, grid_result.best_params_))\n",
        "means = grid_result.cv_results_['mean_test_score']\n",
        "stds = grid_result.cv_results_['std_test_score']\n",
        "params = grid_result.cv_results_['params']\n",
        "\n",
        "for mean, stdev, param in zip (means, stds, params):\n",
        "  print(\"%f (%f) with %r\" % (mean, stdev, param))\n",
        "\n"
      ],
      "metadata": {
        "colab": {
          "base_uri": "https://localhost:8080/"
        },
        "id": "90YX4T8jCkwu",
        "outputId": "777dcd22-c51f-433c-d599-c3b280b7fb60"
      },
      "execution_count": null,
      "outputs": [
        {
          "output_type": "stream",
          "name": "stderr",
          "text": [
            "/usr/local/lib/python3.7/dist-packages/ipykernel_launcher.py:3: DeprecationWarning: KerasClassifier is deprecated, use Sci-Keras (https://github.com/adriangb/scikeras) instead. See https://www.adriangb.com/scikeras/stable/migration.html for help migrating.\n",
            "  This is separate from the ipykernel package so we can avoid doing imports until\n"
          ]
        },
        {
          "output_type": "stream",
          "name": "stdout",
          "text": [
            "Best 0.930312 using {'batch_size': 5, 'epochs': 150, 'init': 'glorot_uniform', 'optimizer': 'adam'}\n",
            "0.875499 (0.014060) with {'batch_size': 5, 'epochs': 50, 'init': 'glorot_uniform', 'optimizer': 'rmsprop'}\n",
            "0.903563 (0.001420) with {'batch_size': 5, 'epochs': 50, 'init': 'glorot_uniform', 'optimizer': 'adam'}\n",
            "0.858810 (0.043412) with {'batch_size': 5, 'epochs': 50, 'init': 'normal', 'optimizer': 'rmsprop'}\n",
            "0.907875 (0.005120) with {'batch_size': 5, 'epochs': 50, 'init': 'normal', 'optimizer': 'adam'}\n",
            "0.875438 (0.011266) with {'batch_size': 5, 'epochs': 50, 'init': 'uniform', 'optimizer': 'rmsprop'}\n",
            "0.905687 (0.002813) with {'batch_size': 5, 'epochs': 50, 'init': 'uniform', 'optimizer': 'adam'}\n",
            "0.901562 (0.002377) with {'batch_size': 5, 'epochs': 150, 'init': 'glorot_uniform', 'optimizer': 'rmsprop'}\n",
            "0.930312 (0.005291) with {'batch_size': 5, 'epochs': 150, 'init': 'glorot_uniform', 'optimizer': 'adam'}\n",
            "0.906500 (0.004245) with {'batch_size': 5, 'epochs': 150, 'init': 'normal', 'optimizer': 'rmsprop'}\n",
            "0.906566 (0.034848) with {'batch_size': 5, 'epochs': 150, 'init': 'normal', 'optimizer': 'adam'}\n",
            "0.901749 (0.005844) with {'batch_size': 5, 'epochs': 150, 'init': 'uniform', 'optimizer': 'rmsprop'}\n",
            "0.923499 (0.017009) with {'batch_size': 5, 'epochs': 150, 'init': 'uniform', 'optimizer': 'adam'}\n",
            "0.847625 (0.019571) with {'batch_size': 20, 'epochs': 50, 'init': 'glorot_uniform', 'optimizer': 'rmsprop'}\n",
            "0.880687 (0.017247) with {'batch_size': 20, 'epochs': 50, 'init': 'glorot_uniform', 'optimizer': 'adam'}\n",
            "0.867687 (0.020750) with {'batch_size': 20, 'epochs': 50, 'init': 'normal', 'optimizer': 'rmsprop'}\n",
            "0.890565 (0.030008) with {'batch_size': 20, 'epochs': 50, 'init': 'normal', 'optimizer': 'adam'}\n",
            "0.876312 (0.017591) with {'batch_size': 20, 'epochs': 50, 'init': 'uniform', 'optimizer': 'rmsprop'}\n",
            "0.900125 (0.000930) with {'batch_size': 20, 'epochs': 50, 'init': 'uniform', 'optimizer': 'adam'}\n",
            "0.900125 (0.001996) with {'batch_size': 20, 'epochs': 150, 'init': 'glorot_uniform', 'optimizer': 'rmsprop'}\n",
            "0.903624 (0.032292) with {'batch_size': 20, 'epochs': 150, 'init': 'glorot_uniform', 'optimizer': 'adam'}\n",
            "0.904687 (0.007693) with {'batch_size': 20, 'epochs': 150, 'init': 'normal', 'optimizer': 'rmsprop'}\n",
            "0.902376 (0.007287) with {'batch_size': 20, 'epochs': 150, 'init': 'normal', 'optimizer': 'adam'}\n",
            "0.860184 (0.051157) with {'batch_size': 20, 'epochs': 150, 'init': 'uniform', 'optimizer': 'rmsprop'}\n",
            "0.920874 (0.014159) with {'batch_size': 20, 'epochs': 150, 'init': 'uniform', 'optimizer': 'adam'}\n"
          ]
        }
      ]
    },
    {
      "cell_type": "code",
      "source": [
        "# run model with best parameters from sckit learn's gridsearchCV"
      ],
      "metadata": {
        "id": "aNwH8jWLCk7-"
      },
      "execution_count": null,
      "outputs": []
    },
    {
      "cell_type": "code",
      "source": [
        "best_model = Sequential()\n",
        "best_model.add(Dense(100, input_dim=X.shape[1], activation='relu',\n",
        "                  kernel_initializer='glorot_uniform'))\n",
        "best_model.add(Dense(50,activation='relu',kernel_initializer= 'glorot_uniform'))\n",
        "best_model.add(Dense(25,activation='relu',kernel_initializer='glorot_uniform'))\n",
        "best_model.add(Dense(1,activation='sigmoid',kernel_initializer='glorot_uniform'))\n",
        "\n",
        "best_model.compile(loss='binary_crossentropy', \n",
        "                optimizer= tensorflow.keras.optimizers.Adam(),\n",
        "                metrics =['accuracy'])\n",
        "\n",
        "best_model.fit(X ,  y, epochs = 150, batch_size = 5)"
      ],
      "metadata": {
        "colab": {
          "base_uri": "https://localhost:8080/"
        },
        "id": "DPOeCspkGmmr",
        "outputId": "b844fdd2-de09-4ee3-8dcf-7e890b7d6c21"
      },
      "execution_count": 32,
      "outputs": [
        {
          "output_type": "stream",
          "name": "stdout",
          "text": [
            "Epoch 1/150\n",
            "3200/3200 [==============================] - 6s 2ms/step - loss: 0.9604 - accuracy: 0.7287\n",
            "Epoch 2/150\n",
            "3200/3200 [==============================] - 7s 2ms/step - loss: 0.4449 - accuracy: 0.7961\n",
            "Epoch 3/150\n",
            "3200/3200 [==============================] - 7s 2ms/step - loss: 0.3990 - accuracy: 0.8027\n",
            "Epoch 4/150\n",
            "3200/3200 [==============================] - 11s 3ms/step - loss: 0.4147 - accuracy: 0.7755\n",
            "Epoch 5/150\n",
            "3200/3200 [==============================] - 5s 2ms/step - loss: 0.3327 - accuracy: 0.8088\n",
            "Epoch 6/150\n",
            "3200/3200 [==============================] - 5s 2ms/step - loss: 0.3164 - accuracy: 0.8344\n",
            "Epoch 7/150\n",
            "3200/3200 [==============================] - 5s 2ms/step - loss: 0.3052 - accuracy: 0.8407\n",
            "Epoch 8/150\n",
            "3200/3200 [==============================] - 6s 2ms/step - loss: 0.3063 - accuracy: 0.8397\n",
            "Epoch 9/150\n",
            "3200/3200 [==============================] - 5s 2ms/step - loss: 0.3011 - accuracy: 0.8424\n",
            "Epoch 10/150\n",
            "3200/3200 [==============================] - 5s 2ms/step - loss: 0.3034 - accuracy: 0.8421\n",
            "Epoch 11/150\n",
            "3200/3200 [==============================] - 5s 2ms/step - loss: 0.2972 - accuracy: 0.8454\n",
            "Epoch 12/150\n",
            "3200/3200 [==============================] - 5s 2ms/step - loss: 0.2866 - accuracy: 0.8517\n",
            "Epoch 13/150\n",
            "3200/3200 [==============================] - 5s 2ms/step - loss: 0.2914 - accuracy: 0.8523\n",
            "Epoch 14/150\n",
            "3200/3200 [==============================] - 5s 2ms/step - loss: 0.2834 - accuracy: 0.8579\n",
            "Epoch 15/150\n",
            "3200/3200 [==============================] - 5s 2ms/step - loss: 0.2752 - accuracy: 0.8540\n",
            "Epoch 16/150\n",
            "3200/3200 [==============================] - 5s 2ms/step - loss: 0.2701 - accuracy: 0.8659\n",
            "Epoch 17/150\n",
            "3200/3200 [==============================] - 6s 2ms/step - loss: 0.2641 - accuracy: 0.8680\n",
            "Epoch 18/150\n",
            "3200/3200 [==============================] - 5s 2ms/step - loss: 0.2586 - accuracy: 0.8683\n",
            "Epoch 19/150\n",
            "3200/3200 [==============================] - 5s 2ms/step - loss: 0.2579 - accuracy: 0.8721\n",
            "Epoch 20/150\n",
            "3200/3200 [==============================] - 5s 2ms/step - loss: 0.2516 - accuracy: 0.8756\n",
            "Epoch 21/150\n",
            "3200/3200 [==============================] - 5s 2ms/step - loss: 0.2483 - accuracy: 0.8772\n",
            "Epoch 22/150\n",
            "3200/3200 [==============================] - 5s 2ms/step - loss: 0.2477 - accuracy: 0.8783\n",
            "Epoch 23/150\n",
            "3200/3200 [==============================] - 5s 2ms/step - loss: 0.2436 - accuracy: 0.8814\n",
            "Epoch 24/150\n",
            "3200/3200 [==============================] - 6s 2ms/step - loss: 0.2409 - accuracy: 0.8811\n",
            "Epoch 25/150\n",
            "3200/3200 [==============================] - 5s 2ms/step - loss: 0.2397 - accuracy: 0.8829\n",
            "Epoch 26/150\n",
            "3200/3200 [==============================] - 6s 2ms/step - loss: 0.2364 - accuracy: 0.8849\n",
            "Epoch 27/150\n",
            "3200/3200 [==============================] - 5s 2ms/step - loss: 0.2334 - accuracy: 0.8873\n",
            "Epoch 28/150\n",
            "3200/3200 [==============================] - 5s 2ms/step - loss: 0.2310 - accuracy: 0.8876\n",
            "Epoch 29/150\n",
            "3200/3200 [==============================] - 5s 2ms/step - loss: 0.2294 - accuracy: 0.8907\n",
            "Epoch 30/150\n",
            "3200/3200 [==============================] - 5s 2ms/step - loss: 0.2290 - accuracy: 0.8896\n",
            "Epoch 31/150\n",
            "3200/3200 [==============================] - 5s 2ms/step - loss: 0.2303 - accuracy: 0.8892\n",
            "Epoch 32/150\n",
            "3200/3200 [==============================] - 5s 2ms/step - loss: 0.2259 - accuracy: 0.8905\n",
            "Epoch 33/150\n",
            "3200/3200 [==============================] - 5s 2ms/step - loss: 0.2234 - accuracy: 0.8930\n",
            "Epoch 34/150\n",
            "3200/3200 [==============================] - 6s 2ms/step - loss: 0.2202 - accuracy: 0.8959\n",
            "Epoch 35/150\n",
            "3200/3200 [==============================] - 6s 2ms/step - loss: 0.2193 - accuracy: 0.8966\n",
            "Epoch 36/150\n",
            "3200/3200 [==============================] - 5s 2ms/step - loss: 0.2184 - accuracy: 0.8943\n",
            "Epoch 37/150\n",
            "3200/3200 [==============================] - 5s 2ms/step - loss: 0.2179 - accuracy: 0.8961\n",
            "Epoch 38/150\n",
            "3200/3200 [==============================] - 5s 2ms/step - loss: 0.2151 - accuracy: 0.9007\n",
            "Epoch 39/150\n",
            "3200/3200 [==============================] - 5s 2ms/step - loss: 0.2155 - accuracy: 0.9004\n",
            "Epoch 40/150\n",
            "3200/3200 [==============================] - 5s 2ms/step - loss: 0.2116 - accuracy: 0.8986\n",
            "Epoch 41/150\n",
            "3200/3200 [==============================] - 6s 2ms/step - loss: 0.2124 - accuracy: 0.8979\n",
            "Epoch 42/150\n",
            "3200/3200 [==============================] - 5s 2ms/step - loss: 0.2122 - accuracy: 0.9015\n",
            "Epoch 43/150\n",
            "3200/3200 [==============================] - 6s 2ms/step - loss: 0.2064 - accuracy: 0.9054\n",
            "Epoch 44/150\n",
            "3200/3200 [==============================] - 5s 2ms/step - loss: 0.2112 - accuracy: 0.9010\n",
            "Epoch 45/150\n",
            "3200/3200 [==============================] - 5s 2ms/step - loss: 0.2080 - accuracy: 0.9036\n",
            "Epoch 46/150\n",
            "3200/3200 [==============================] - 5s 2ms/step - loss: 0.2048 - accuracy: 0.9049\n",
            "Epoch 47/150\n",
            "3200/3200 [==============================] - 5s 2ms/step - loss: 0.2062 - accuracy: 0.9041\n",
            "Epoch 48/150\n",
            "3200/3200 [==============================] - 5s 2ms/step - loss: 0.2072 - accuracy: 0.9046\n",
            "Epoch 49/150\n",
            "3200/3200 [==============================] - 5s 2ms/step - loss: 0.2061 - accuracy: 0.9039\n",
            "Epoch 50/150\n",
            "3200/3200 [==============================] - 5s 2ms/step - loss: 0.2027 - accuracy: 0.9041\n",
            "Epoch 51/150\n",
            "3200/3200 [==============================] - 5s 2ms/step - loss: 0.2011 - accuracy: 0.9060\n",
            "Epoch 52/150\n",
            "3200/3200 [==============================] - 5s 2ms/step - loss: 0.2045 - accuracy: 0.9047\n",
            "Epoch 53/150\n",
            "3200/3200 [==============================] - 5s 2ms/step - loss: 0.1996 - accuracy: 0.9081\n",
            "Epoch 54/150\n",
            "3200/3200 [==============================] - 5s 2ms/step - loss: 0.1974 - accuracy: 0.9093\n",
            "Epoch 55/150\n",
            "3200/3200 [==============================] - 5s 2ms/step - loss: 0.1962 - accuracy: 0.9096\n",
            "Epoch 56/150\n",
            "3200/3200 [==============================] - 6s 2ms/step - loss: 0.2026 - accuracy: 0.9028\n",
            "Epoch 57/150\n",
            "3200/3200 [==============================] - 6s 2ms/step - loss: 0.1986 - accuracy: 0.9105\n",
            "Epoch 58/150\n",
            "3200/3200 [==============================] - 5s 2ms/step - loss: 0.1985 - accuracy: 0.9099\n",
            "Epoch 59/150\n",
            "3200/3200 [==============================] - 6s 2ms/step - loss: 0.1917 - accuracy: 0.9123\n",
            "Epoch 60/150\n",
            "3200/3200 [==============================] - 5s 2ms/step - loss: 0.1983 - accuracy: 0.9060\n",
            "Epoch 61/150\n",
            "3200/3200 [==============================] - 5s 2ms/step - loss: 0.2015 - accuracy: 0.9051\n",
            "Epoch 62/150\n",
            "3200/3200 [==============================] - 5s 2ms/step - loss: 0.1957 - accuracy: 0.9083\n",
            "Epoch 63/150\n",
            "3200/3200 [==============================] - 5s 2ms/step - loss: 0.1977 - accuracy: 0.9084\n",
            "Epoch 64/150\n",
            "3200/3200 [==============================] - 5s 2ms/step - loss: 0.1966 - accuracy: 0.9098\n",
            "Epoch 65/150\n",
            "3200/3200 [==============================] - 6s 2ms/step - loss: 0.1953 - accuracy: 0.9116\n",
            "Epoch 66/150\n",
            "3200/3200 [==============================] - 6s 2ms/step - loss: 0.1913 - accuracy: 0.9133\n",
            "Epoch 67/150\n",
            "3200/3200 [==============================] - 5s 2ms/step - loss: 0.1915 - accuracy: 0.9128\n",
            "Epoch 68/150\n",
            "3200/3200 [==============================] - 5s 2ms/step - loss: 0.1926 - accuracy: 0.9129\n",
            "Epoch 69/150\n",
            "3200/3200 [==============================] - 5s 2ms/step - loss: 0.1907 - accuracy: 0.9130\n",
            "Epoch 70/150\n",
            "3200/3200 [==============================] - 5s 2ms/step - loss: 0.1930 - accuracy: 0.9132\n",
            "Epoch 71/150\n",
            "3200/3200 [==============================] - 5s 2ms/step - loss: 0.1897 - accuracy: 0.9136\n",
            "Epoch 72/150\n",
            "3200/3200 [==============================] - 5s 2ms/step - loss: 0.1923 - accuracy: 0.9118\n",
            "Epoch 73/150\n",
            "3200/3200 [==============================] - 5s 2ms/step - loss: 0.1893 - accuracy: 0.9135\n",
            "Epoch 74/150\n",
            "3200/3200 [==============================] - 5s 2ms/step - loss: 0.1869 - accuracy: 0.9169\n",
            "Epoch 75/150\n",
            "3200/3200 [==============================] - 5s 2ms/step - loss: 0.1880 - accuracy: 0.9146\n",
            "Epoch 76/150\n",
            "3200/3200 [==============================] - 5s 2ms/step - loss: 0.1880 - accuracy: 0.9145\n",
            "Epoch 77/150\n",
            "3200/3200 [==============================] - 6s 2ms/step - loss: 0.1844 - accuracy: 0.9162\n",
            "Epoch 78/150\n",
            "3200/3200 [==============================] - 6s 2ms/step - loss: 0.1820 - accuracy: 0.9177\n",
            "Epoch 79/150\n",
            "3200/3200 [==============================] - 6s 2ms/step - loss: 0.1892 - accuracy: 0.9154\n",
            "Epoch 80/150\n",
            "3200/3200 [==============================] - 6s 2ms/step - loss: 0.1818 - accuracy: 0.9176\n",
            "Epoch 81/150\n",
            "3200/3200 [==============================] - 6s 2ms/step - loss: 0.1858 - accuracy: 0.9164\n",
            "Epoch 82/150\n",
            "3200/3200 [==============================] - 6s 2ms/step - loss: 0.1895 - accuracy: 0.9144\n",
            "Epoch 83/150\n",
            "3200/3200 [==============================] - 5s 2ms/step - loss: 0.1848 - accuracy: 0.9168\n",
            "Epoch 84/150\n",
            "3200/3200 [==============================] - 6s 2ms/step - loss: 0.1840 - accuracy: 0.9171\n",
            "Epoch 85/150\n",
            "3200/3200 [==============================] - 5s 2ms/step - loss: 0.1813 - accuracy: 0.9187\n",
            "Epoch 86/150\n",
            "3200/3200 [==============================] - 5s 2ms/step - loss: 0.1823 - accuracy: 0.9167\n",
            "Epoch 87/150\n",
            "3200/3200 [==============================] - 6s 2ms/step - loss: 0.1833 - accuracy: 0.9153\n",
            "Epoch 88/150\n",
            "3200/3200 [==============================] - 6s 2ms/step - loss: 0.1805 - accuracy: 0.9185\n",
            "Epoch 89/150\n",
            "3200/3200 [==============================] - 6s 2ms/step - loss: 0.1809 - accuracy: 0.9179\n",
            "Epoch 90/150\n",
            "3200/3200 [==============================] - 6s 2ms/step - loss: 0.1824 - accuracy: 0.9183\n",
            "Epoch 91/150\n",
            "3200/3200 [==============================] - 6s 2ms/step - loss: 0.1850 - accuracy: 0.9170\n",
            "Epoch 92/150\n",
            "3200/3200 [==============================] - 5s 2ms/step - loss: 0.1777 - accuracy: 0.9189\n",
            "Epoch 93/150\n",
            "3200/3200 [==============================] - 6s 2ms/step - loss: 0.1798 - accuracy: 0.9195\n",
            "Epoch 94/150\n",
            "3200/3200 [==============================] - 5s 2ms/step - loss: 0.1778 - accuracy: 0.9198\n",
            "Epoch 95/150\n",
            "3200/3200 [==============================] - 5s 2ms/step - loss: 0.1799 - accuracy: 0.9183\n",
            "Epoch 96/150\n",
            "3200/3200 [==============================] - 6s 2ms/step - loss: 0.1754 - accuracy: 0.9204\n",
            "Epoch 97/150\n",
            "3200/3200 [==============================] - 6s 2ms/step - loss: 0.1804 - accuracy: 0.9193\n",
            "Epoch 98/150\n",
            "3200/3200 [==============================] - 6s 2ms/step - loss: 0.1866 - accuracy: 0.9149\n",
            "Epoch 99/150\n",
            "3200/3200 [==============================] - 6s 2ms/step - loss: 0.1770 - accuracy: 0.9204\n",
            "Epoch 100/150\n",
            "3200/3200 [==============================] - 6s 2ms/step - loss: 0.1769 - accuracy: 0.9194\n",
            "Epoch 101/150\n",
            "3200/3200 [==============================] - 6s 2ms/step - loss: 0.1808 - accuracy: 0.9196\n",
            "Epoch 102/150\n",
            "3200/3200 [==============================] - 6s 2ms/step - loss: 0.1727 - accuracy: 0.9229\n",
            "Epoch 103/150\n",
            "3200/3200 [==============================] - 6s 2ms/step - loss: 0.1773 - accuracy: 0.9196\n",
            "Epoch 104/150\n",
            "3200/3200 [==============================] - 6s 2ms/step - loss: 0.1774 - accuracy: 0.9206\n",
            "Epoch 105/150\n",
            "3200/3200 [==============================] - 5s 2ms/step - loss: 0.1759 - accuracy: 0.9216\n",
            "Epoch 106/150\n",
            "3200/3200 [==============================] - 5s 2ms/step - loss: 0.1749 - accuracy: 0.9198\n",
            "Epoch 107/150\n",
            "3200/3200 [==============================] - 5s 2ms/step - loss: 0.1818 - accuracy: 0.9186\n",
            "Epoch 108/150\n",
            "3200/3200 [==============================] - 5s 2ms/step - loss: 0.1824 - accuracy: 0.9174\n",
            "Epoch 109/150\n",
            "3200/3200 [==============================] - 5s 2ms/step - loss: 0.1779 - accuracy: 0.9196\n",
            "Epoch 110/150\n",
            "3200/3200 [==============================] - 6s 2ms/step - loss: 0.1763 - accuracy: 0.9226\n",
            "Epoch 111/150\n",
            "3200/3200 [==============================] - 5s 2ms/step - loss: 0.1759 - accuracy: 0.9205\n",
            "Epoch 112/150\n",
            "3200/3200 [==============================] - 6s 2ms/step - loss: 0.1750 - accuracy: 0.9205\n",
            "Epoch 113/150\n",
            "3200/3200 [==============================] - 6s 2ms/step - loss: 0.1727 - accuracy: 0.9232\n",
            "Epoch 114/150\n",
            "3200/3200 [==============================] - 6s 2ms/step - loss: 0.1759 - accuracy: 0.9204\n",
            "Epoch 115/150\n",
            "3200/3200 [==============================] - 6s 2ms/step - loss: 0.1732 - accuracy: 0.9222\n",
            "Epoch 116/150\n",
            "3200/3200 [==============================] - 6s 2ms/step - loss: 0.1777 - accuracy: 0.9207\n",
            "Epoch 117/150\n",
            "3200/3200 [==============================] - 6s 2ms/step - loss: 0.1694 - accuracy: 0.9251\n",
            "Epoch 118/150\n",
            "3200/3200 [==============================] - 5s 2ms/step - loss: 0.1697 - accuracy: 0.9219\n",
            "Epoch 119/150\n",
            "3200/3200 [==============================] - 6s 2ms/step - loss: 0.1779 - accuracy: 0.9194\n",
            "Epoch 120/150\n",
            "3200/3200 [==============================] - 5s 2ms/step - loss: 0.1702 - accuracy: 0.9237\n",
            "Epoch 121/150\n",
            "3200/3200 [==============================] - 7s 2ms/step - loss: 0.1700 - accuracy: 0.9247\n",
            "Epoch 122/150\n",
            "3200/3200 [==============================] - 5s 2ms/step - loss: 0.1723 - accuracy: 0.9243\n",
            "Epoch 123/150\n",
            "3200/3200 [==============================] - 6s 2ms/step - loss: 0.1762 - accuracy: 0.9211\n",
            "Epoch 124/150\n",
            "3200/3200 [==============================] - 5s 2ms/step - loss: 0.1714 - accuracy: 0.9239\n",
            "Epoch 125/150\n",
            "3200/3200 [==============================] - 6s 2ms/step - loss: 0.1714 - accuracy: 0.9218\n",
            "Epoch 126/150\n",
            "3200/3200 [==============================] - 6s 2ms/step - loss: 0.1705 - accuracy: 0.9258\n",
            "Epoch 127/150\n",
            "3200/3200 [==============================] - 6s 2ms/step - loss: 0.1681 - accuracy: 0.9241\n",
            "Epoch 128/150\n",
            "3200/3200 [==============================] - 6s 2ms/step - loss: 0.1695 - accuracy: 0.9228\n",
            "Epoch 129/150\n",
            "3200/3200 [==============================] - 6s 2ms/step - loss: 0.1688 - accuracy: 0.9265\n",
            "Epoch 130/150\n",
            "3200/3200 [==============================] - 6s 2ms/step - loss: 0.1672 - accuracy: 0.9249\n",
            "Epoch 131/150\n",
            "3200/3200 [==============================] - 6s 2ms/step - loss: 0.1726 - accuracy: 0.9234\n",
            "Epoch 132/150\n",
            "3200/3200 [==============================] - 6s 2ms/step - loss: 0.1709 - accuracy: 0.9243\n",
            "Epoch 133/150\n",
            "3200/3200 [==============================] - 5s 2ms/step - loss: 0.1722 - accuracy: 0.9249\n",
            "Epoch 134/150\n",
            "3200/3200 [==============================] - 6s 2ms/step - loss: 0.1669 - accuracy: 0.9260\n",
            "Epoch 135/150\n",
            "3200/3200 [==============================] - 6s 2ms/step - loss: 0.1668 - accuracy: 0.9255\n",
            "Epoch 136/150\n",
            "3200/3200 [==============================] - 6s 2ms/step - loss: 0.1619 - accuracy: 0.9297\n",
            "Epoch 137/150\n",
            "3200/3200 [==============================] - 5s 2ms/step - loss: 0.1651 - accuracy: 0.9265\n",
            "Epoch 138/150\n",
            "3200/3200 [==============================] - 6s 2ms/step - loss: 0.1613 - accuracy: 0.9291\n",
            "Epoch 139/150\n",
            "3200/3200 [==============================] - 6s 2ms/step - loss: 0.1676 - accuracy: 0.9248\n",
            "Epoch 140/150\n",
            "3200/3200 [==============================] - 6s 2ms/step - loss: 0.1689 - accuracy: 0.9251\n",
            "Epoch 141/150\n",
            "3200/3200 [==============================] - 6s 2ms/step - loss: 0.1650 - accuracy: 0.9279\n",
            "Epoch 142/150\n",
            "3200/3200 [==============================] - 6s 2ms/step - loss: 0.1668 - accuracy: 0.9246\n",
            "Epoch 143/150\n",
            "3200/3200 [==============================] - 6s 2ms/step - loss: 0.1635 - accuracy: 0.9280\n",
            "Epoch 144/150\n",
            "3200/3200 [==============================] - 6s 2ms/step - loss: 0.1640 - accuracy: 0.9286\n",
            "Epoch 145/150\n",
            "3200/3200 [==============================] - 6s 2ms/step - loss: 0.1653 - accuracy: 0.9263\n",
            "Epoch 146/150\n",
            "3200/3200 [==============================] - 6s 2ms/step - loss: 0.1703 - accuracy: 0.9251\n",
            "Epoch 147/150\n",
            "3200/3200 [==============================] - 6s 2ms/step - loss: 0.1671 - accuracy: 0.9274\n",
            "Epoch 148/150\n",
            "3200/3200 [==============================] - 5s 2ms/step - loss: 0.1592 - accuracy: 0.9293\n",
            "Epoch 149/150\n",
            "3200/3200 [==============================] - 6s 2ms/step - loss: 0.1646 - accuracy: 0.9266\n",
            "Epoch 150/150\n",
            "3200/3200 [==============================] - 6s 2ms/step - loss: 0.1676 - accuracy: 0.9237\n"
          ]
        },
        {
          "output_type": "execute_result",
          "data": {
            "text/plain": [
              "<keras.callbacks.History at 0x7f9d86d9e3d0>"
            ]
          },
          "metadata": {},
          "execution_count": 32
        }
      ]
    },
    {
      "cell_type": "markdown",
      "source": [
        "Predictions from Best Model Provided Below"
      ],
      "metadata": {
        "id": "_km-9xvtOTiH"
      }
    },
    {
      "cell_type": "code",
      "execution_count": null,
      "metadata": {
        "colab": {
          "base_uri": "https://localhost:8080/"
        },
        "id": "GZj9OzaQz_Wq",
        "outputId": "599fc2ac-ec4f-4470-a27a-e9b44088f2d3"
      },
      "outputs": [
        {
          "output_type": "execute_result",
          "data": {
            "text/plain": [
              "array([[1.        ],\n",
              "       [1.        ],\n",
              "       [1.        ],\n",
              "       ...,\n",
              "       [0.95793664],\n",
              "       [0.56782025],\n",
              "       [0.8158236 ]], dtype=float32)"
            ]
          },
          "metadata": {},
          "execution_count": 46
        }
      ],
      "source": [
        "pred = best_model.predict(X_test)\n",
        "pred"
      ]
    },
    {
      "cell_type": "code",
      "execution_count": null,
      "metadata": {
        "id": "cm-90dEXz_dn"
      },
      "outputs": [],
      "source": [
        "mse2 = mean_squared_error(pred, y_test, squared=False)"
      ]
    },
    {
      "cell_type": "code",
      "execution_count": null,
      "metadata": {
        "colab": {
          "base_uri": "https://localhost:8080/"
        },
        "id": "N_mnZ8FUxR1B",
        "outputId": "c334293c-d4d4-4806-c034-728e946c2f68"
      },
      "outputs": [
        {
          "output_type": "execute_result",
          "data": {
            "text/plain": [
              "0.24920588492390586"
            ]
          },
          "metadata": {},
          "execution_count": 48
        }
      ],
      "source": [
        "mse2"
      ]
    },
    {
      "cell_type": "code",
      "execution_count": null,
      "metadata": {
        "id": "hgChC-It8MW9",
        "colab": {
          "base_uri": "https://localhost:8080/"
        },
        "outputId": "d9152cb7-313f-4f72-cde1-e276bed16ca0"
      },
      "outputs": [
        {
          "output_type": "execute_result",
          "data": {
            "text/plain": [
              "(4000, 1)"
            ]
          },
          "metadata": {},
          "execution_count": 49
        }
      ],
      "source": [
        "pred1 = np.round(pred) # this takes continues output and transforms to binary values of 0 and 1\n",
        "pred1.shape"
      ]
    },
    {
      "cell_type": "code",
      "execution_count": null,
      "metadata": {
        "colab": {
          "base_uri": "https://localhost:8080/"
        },
        "id": "a4Zdoei-8Y1P",
        "outputId": "cbb96484-fb96-468c-97c7-d2560a4c86d8"
      },
      "outputs": [
        {
          "output_type": "execute_result",
          "data": {
            "text/plain": [
              "array([[1.],\n",
              "       [1.],\n",
              "       [1.],\n",
              "       ...,\n",
              "       [1.],\n",
              "       [1.],\n",
              "       [1.]], dtype=float32)"
            ]
          },
          "metadata": {},
          "execution_count": 50
        }
      ],
      "source": [
        "pred1 # this is the output target value array for the test dataset"
      ]
    },
    {
      "cell_type": "code",
      "execution_count": null,
      "metadata": {
        "id": "cO6_BTtB3KKR"
      },
      "outputs": [],
      "source": [
        "from sklearn.metrics import accuracy_score\n",
        "from sklearn.metrics import f1_score\n",
        "from sklearn.metrics import precision_score\n",
        "from sklearn.metrics import recall_score\n",
        "from sklearn.metrics import roc_auc_score\n",
        "from sklearn.metrics import confusion_matrix\n",
        "from sklearn.metrics import f1_score"
      ]
    },
    {
      "cell_type": "code",
      "execution_count": null,
      "metadata": {
        "id": "b2VuLNtu3Oke"
      },
      "outputs": [],
      "source": [
        "accuracy1 = accuracy_score(y_test, pred1)\n",
        "precision1 = precision_score(y_test, pred1)\n",
        "recall1 = recall_score(y_test, pred1)\n",
        "F1_score = f1_score(y_test, pred1)\n",
        "confusion_mat_test = confusion_matrix(y_test, pred1)"
      ]
    },
    {
      "cell_type": "code",
      "execution_count": null,
      "metadata": {
        "colab": {
          "base_uri": "https://localhost:8080/"
        },
        "id": "NlA3T4WZ3PTG",
        "outputId": "0cb02a8c-1d03-41f2-d871-cee29499a841"
      },
      "outputs": [
        {
          "output_type": "execute_result",
          "data": {
            "text/plain": [
              "array([[ 630,  308],\n",
              "       [  44, 3018]])"
            ]
          },
          "metadata": {},
          "execution_count": 54
        }
      ],
      "source": [
        "confusion_mat_test"
      ]
    },
    {
      "cell_type": "code",
      "execution_count": null,
      "metadata": {
        "colab": {
          "base_uri": "https://localhost:8080/"
        },
        "id": "un8VE8lI3PcG",
        "outputId": "b2723db4-5e5f-4546-c66a-f86207cb0642"
      },
      "outputs": [
        {
          "output_type": "execute_result",
          "data": {
            "text/plain": [
              "0.912"
            ]
          },
          "metadata": {},
          "execution_count": 55
        }
      ],
      "source": [
        "accuracy1"
      ]
    },
    {
      "cell_type": "code",
      "execution_count": null,
      "metadata": {
        "colab": {
          "base_uri": "https://localhost:8080/"
        },
        "id": "ZbBvms2N8js1",
        "outputId": "80a7d9b4-53eb-4823-f7a3-5ba010f0c26e"
      },
      "outputs": [
        {
          "output_type": "execute_result",
          "data": {
            "text/plain": [
              "0.9073962717979555"
            ]
          },
          "metadata": {},
          "execution_count": 56
        }
      ],
      "source": [
        "precision1"
      ]
    },
    {
      "cell_type": "code",
      "execution_count": null,
      "metadata": {
        "colab": {
          "base_uri": "https://localhost:8080/"
        },
        "id": "Fqf90_vf8mtW",
        "outputId": "73c1427d-3d67-4c03-8ac1-a89de8922e4a"
      },
      "outputs": [
        {
          "output_type": "execute_result",
          "data": {
            "text/plain": [
              "0.9856303069888962"
            ]
          },
          "metadata": {},
          "execution_count": 57
        }
      ],
      "source": [
        "recall1"
      ]
    },
    {
      "cell_type": "code",
      "execution_count": null,
      "metadata": {
        "colab": {
          "base_uri": "https://localhost:8080/"
        },
        "id": "AHcb0Rur8nNi",
        "outputId": "c3cdd486-4af5-4b66-c922-b17d168aec88"
      },
      "outputs": [
        {
          "output_type": "execute_result",
          "data": {
            "text/plain": [
              "0.9448966812773951"
            ]
          },
          "metadata": {},
          "execution_count": 58
        }
      ],
      "source": [
        "F1_score"
      ]
    },
    {
      "cell_type": "code",
      "execution_count": null,
      "metadata": {
        "colab": {
          "base_uri": "https://localhost:8080/"
        },
        "id": "UU2JwR46xvOl",
        "outputId": "0aa9f917-da44-4238-e1be-560e0114d440"
      },
      "outputs": [
        {
          "output_type": "stream",
          "name": "stdout",
          "text": [
            "0.9795068582625734\n"
          ]
        }
      ],
      "source": [
        "auc= roc_auc_score(y_test, pred)\n",
        "\n",
        "print(auc)"
      ]
    },
    {
      "cell_type": "code",
      "execution_count": null,
      "metadata": {
        "id": "4rOl9Cb5xvWa",
        "colab": {
          "base_uri": "https://localhost:8080/",
          "height": 295
        },
        "outputId": "55fb8ded-d10c-4b2f-8583-fe2b86a8ad48"
      },
      "outputs": [
        {
          "output_type": "display_data",
          "data": {
            "text/plain": [
              "<Figure size 432x288 with 1 Axes>"
            ],
            "image/png": "[encoded data removed]"
          },
          "metadata": {
            "needs_background": "light"
          }
        }
      ],
      "source": [
        "def plot_roc_curve(fper, tper):  \n",
        "    plt.plot(fper, tper, color='orange', label='ROC')\n",
        "    plt.plot([0, 1], [0, 1], color='darkblue', linestyle='--')\n",
        "    plt.xlabel('False Positive Rate')\n",
        "    plt.ylabel('True Positive Rate')\n",
        "    plt.title('Receiver Operating Characteristic (ROC) Curve')\n",
        "    plt.legend()\n",
        "    plt.show()\n",
        "    \n",
        "probs = best_model.predict(X_test)\n",
        "fper, tper, thresholds = roc_curve(y_test, probs) \n",
        "plot_roc_curve(fper, tper)"
      ]
    },
    {
      "cell_type": "code",
      "source": [
        "# Save Neural Network to JSON File"
      ],
      "metadata": {
        "id": "B2cCpxIecKXv"
      },
      "execution_count": null,
      "outputs": []
    },
    {
      "cell_type": "code",
      "source": [
        "from keras.models import model_from_json"
      ],
      "metadata": {
        "id": "5f2s0FajcKiF"
      },
      "execution_count": 14,
      "outputs": []
    },
    {
      "cell_type": "code",
      "source": [
        "# Serialize model to JSON"
      ],
      "metadata": {
        "id": "GeXKj3tYcKpO"
      },
      "execution_count": null,
      "outputs": []
    },
    {
      "cell_type": "code",
      "source": [
        "best_tuned_model_json = best_model.to_json()\n",
        "\n",
        "with open(\"model.json\" , \"w\") as json_file:\n",
        "  json_file.write(best_tuned_model_json)\n",
        "\n",
        "# Serialize weights to HDF5\n",
        "\n",
        "best_model.save_weights(\"best_model.h5\")\n",
        "print(\"Saved Model to Disk\")"
      ],
      "metadata": {
        "colab": {
          "base_uri": "https://localhost:8080/"
        },
        "id": "p8rLzWc1cKwk",
        "outputId": "b9af0be6-5d97-4f88-94e8-5754fa35f4d8"
      },
      "execution_count": 33,
      "outputs": [
        {
          "output_type": "stream",
          "name": "stdout",
          "text": [
            "Saved Model to Disk\n"
          ]
        }
      ]
    },
    {
      "cell_type": "code",
      "source": [
        "# Load json and create model"
      ],
      "metadata": {
        "id": "O-lMRj_AdiFl"
      },
      "execution_count": null,
      "outputs": []
    },
    {
      "cell_type": "code",
      "source": [
        "json_file = open('model.json', 'r')\n",
        "loaded_model_json = json_file.read()\n",
        "json_file.close()\n",
        "\n",
        "loaded_model = model_from_json(loaded_model_json)\n",
        "\n",
        "\n",
        "# Load weights into new Model\n",
        "\n",
        "\n",
        "loaded_model.load_weights(\"best_model.h5\")\n",
        "print(\"Loaded model from disk\")\n"
      ],
      "metadata": {
        "colab": {
          "base_uri": "https://localhost:8080/"
        },
        "id": "UKDM3rDMe0zs",
        "outputId": "f741b7da-34b6-48b1-d3cc-c15545360a61"
      },
      "execution_count": 15,
      "outputs": [
        {
          "output_type": "stream",
          "name": "stdout",
          "text": [
            "Loaded model from disk\n"
          ]
        }
      ]
    },
    {
      "cell_type": "code",
      "source": [
        "# Evaluate Loaded Model on Test Data"
      ],
      "metadata": {
        "id": "mG4_VJLFe07D"
      },
      "execution_count": null,
      "outputs": []
    },
    {
      "cell_type": "code",
      "source": [
        "loaded_model.compile(loss='binary_crossentropy', \n",
        "                optimizer= tensorflow.keras.optimizers.Adam(),\n",
        "                metrics =['accuracy'])\n",
        "\n",
        "score = loaded_model.evaluate(X_test, y_test, verbose = 0)\n",
        "print(\"%s: %.2f%%\" % (loaded_model.metrics_names[1], score[1]*100))"
      ],
      "metadata": {
        "colab": {
          "base_uri": "https://localhost:8080/"
        },
        "id": "XYsPXbdye1Aq",
        "outputId": "91ebd0dc-bdbf-4aa5-f7d1-b8975be1eb24"
      },
      "execution_count": 16,
      "outputs": [
        {
          "output_type": "stream",
          "name": "stdout",
          "text": [
            "accuracy: 91.20%\n"
          ]
        }
      ]
    },
    {
      "cell_type": "code",
      "source": [
        "!pip install matplotlib --upgrade"
      ],
      "metadata": {
        "colab": {
          "base_uri": "https://localhost:8080/",
          "height": 538
        },
        "id": "jt60ooaP81fA",
        "outputId": "07cf3a65-4291-4ad5-f823-11ddd412dc00"
      },
      "execution_count": 60,
      "outputs": [
        {
          "output_type": "stream",
          "name": "stdout",
          "text": [
            "Looking in indexes: https://pypi.org/simple, https://us-python.pkg.dev/colab-wheels/public/simple/\n",
            "Requirement already satisfied: matplotlib in /usr/local/lib/python3.7/dist-packages (3.2.2)\n",
            "Collecting matplotlib\n",
            "  Downloading matplotlib-3.5.2-cp37-cp37m-manylinux_2_5_x86_64.manylinux1_x86_64.whl (11.2 MB)\n",
            "\u001b[K     |████████████████████████████████| 11.2 MB 6.4 MB/s \n",
            "\u001b[?25hCollecting fonttools>=4.22.0\n",
            "  Downloading fonttools-4.33.3-py3-none-any.whl (930 kB)\n",
            "\u001b[K     |████████████████████████████████| 930 kB 56.3 MB/s \n",
            "\u001b[?25hRequirement already satisfied: cycler>=0.10 in /usr/local/lib/python3.7/dist-packages (from matplotlib) (0.11.0)\n",
            "Requirement already satisfied: pillow>=6.2.0 in /usr/local/lib/python3.7/dist-packages (from matplotlib) (7.1.2)\n",
            "Requirement already satisfied: packaging>=20.0 in /usr/local/lib/python3.7/dist-packages (from matplotlib) (21.3)\n",
            "Requirement already satisfied: kiwisolver>=1.0.1 in /usr/local/lib/python3.7/dist-packages (from matplotlib) (1.4.3)\n",
            "Requirement already satisfied: numpy>=1.17 in /usr/local/lib/python3.7/dist-packages (from matplotlib) (1.21.6)\n",
            "Requirement already satisfied: python-dateutil>=2.7 in /usr/local/lib/python3.7/dist-packages (from matplotlib) (2.8.2)\n",
            "Requirement already satisfied: pyparsing>=2.2.1 in /usr/local/lib/python3.7/dist-packages (from matplotlib) (3.0.9)\n",
            "Requirement already satisfied: typing-extensions in /usr/local/lib/python3.7/dist-packages (from kiwisolver>=1.0.1->matplotlib) (4.1.1)\n",
            "Requirement already satisfied: six>=1.5 in /usr/local/lib/python3.7/dist-packages (from python-dateutil>=2.7->matplotlib) (1.15.0)\n",
            "Installing collected packages: fonttools, matplotlib\n",
            "  Attempting uninstall: matplotlib\n",
            "    Found existing installation: matplotlib 3.2.2\n",
            "    Uninstalling matplotlib-3.2.2:\n",
            "      Successfully uninstalled matplotlib-3.2.2\n",
            "\u001b[31mERROR: pip's dependency resolver does not currently take into account all the packages that are installed. This behaviour is the source of the following dependency conflicts.\n",
            "albumentations 0.1.12 requires imgaug<0.2.7,>=0.2.5, but you have imgaug 0.2.9 which is incompatible.\u001b[0m\n",
            "Successfully installed fonttools-4.33.3 matplotlib-3.5.2\n"
          ]
        },
        {
          "output_type": "display_data",
          "data": {
            "application/vnd.colab-display-data+json": {
              "pip_warning": {
                "packages": [
                  "matplotlib",
                  "mpl_toolkits"
                ]
              }
            }
          },
          "metadata": {}
        }
      ]
    },
    {
      "cell_type": "code",
      "source": [
        "print(loaded_model.layers[0].weights[0].shape)\n",
        "\n",
        "list1 = []\n",
        "\n",
        "for x in loaded_model.layers[0].weights[0]:\n",
        "  a = (np.sum(abs(x)))\n",
        "  a = np.round(a,2)\n",
        "  list1.append(a)\n",
        "\n",
        "array1 = np.array(list1)\n",
        "\n",
        "X1 = X1.columns\n",
        "X1 = X1.tolist()\n",
        "list2 =[]\n",
        "\n",
        "for i in range(len(X1)):\n",
        "  list2.append((list1[i], X1[i]))\n",
        "\n",
        "print (list2)\n"
      ],
      "metadata": {
        "id": "j6L7nc4xdiR7",
        "colab": {
          "base_uri": "https://localhost:8080/"
        },
        "outputId": "9f0f4977-2428-49f3-c867-c1682c0b65e3"
      },
      "execution_count": 34,
      "outputs": [
        {
          "output_type": "stream",
          "name": "stdout",
          "text": [
            "(71, 100)\n",
            "[(13.04, 'VerificationType'), (18.3, 'LanguageCode'), (25.21, 'Age'), (15.79, 'Gender'), (31.0, 'AppliedAmount'), (50.31, 'Amount'), (95.41, 'Interest'), (28.63, 'LoanDuration'), (42.69, 'MonthlyPayment'), (15.69, 'UseOfLoan'), (13.24, 'Education'), (14.28, 'MaritalStatus'), (16.56, 'EmploymentStatus'), (11.72, 'OccupationArea'), (16.18, 'HomeOwnershipType'), (17.15, 'IncomeFromPrincipalEmployer'), (25.62, 'IncomeFromPension'), (32.97, 'IncomeFromFamilyAllowance'), (26.37, 'IncomeFromSocialWelfare'), (42.59, 'IncomeFromLeavePay'), (33.34, 'IncomeFromChildSupport'), (49.77, 'IncomeOther'), (20.35, 'IncomeTotal'), (20.39, 'ExistingLiabilities'), (13.85, 'LiabilitiesTotal'), (19.08, 'RefinanceLiabilities'), (26.45, 'DebtToIncome'), (22.0, 'FreeCash'), (20.53, 'MonthlyPaymentDay'), (143.05, 'PlannedInterestTillDate'), (60.58, 'ExpectedLoss'), (28.47, 'LossGivenDefault'), (25.08, 'ExpectedReturn'), (44.56, 'ProbabilityOfDefault'), (817.64, 'PrincipalOverdueBySchedule'), (33.06, 'ModelVersion'), (150.61, 'PrincipalPaymentsMade'), (383.97, 'InterestAndPenaltyPaymentsMade'), (78.12, 'PrincipalBalance'), (17.9, 'NoOfPreviousLoansBeforeLoan'), (54.01, 'AmountOfPreviousLoansBeforeLoan'), (22.09, 'PreviousEarlyRepaymentsCountBeforeLoan'), (27.87, 'NewCreditCustomer_True'), (22.05, 'Country_ES'), (41.28, 'Country_FI'), (44.37, 'Country_SK'), (9.43, 'EmploymentDurationCurrentEmployer_Other'), (10.22, 'EmploymentDurationCurrentEmployer_Retiree'), (34.62, 'EmploymentDurationCurrentEmployer_TrialPeriod'), (32.73, 'EmploymentDurationCurrentEmployer_UpTo1Year'), (22.19, 'EmploymentDurationCurrentEmployer_UpTo2Years'), (18.92, 'EmploymentDurationCurrentEmployer_UpTo3Years'), (26.68, 'EmploymentDurationCurrentEmployer_UpTo4Years'), (26.71, 'EmploymentDurationCurrentEmployer_UpTo5Years'), (9.4, 'EmploymentDurationCurrentEmployer_nan'), (37.49, 'ActiveScheduleFirstPaymentReached_True'), (9.08, 'ActiveScheduleFirstPaymentReached_nan'), (66.21, 'Rating_AA'), (34.0, 'Rating_B'), (20.61, 'Rating_C'), (38.82, 'Rating_D'), (44.76, 'Rating_E'), (44.29, 'Rating_F'), (55.91, 'Rating_HR'), (10.18, 'Rating_nan'), (263.85, 'Status_Late'), (47.53, 'Status_Repaid'), (9.46, 'Status_nan'), (50.69, 'Restructured_True'), (9.37, 'Restructured_nan'), (8.25, 'diff_days')]\n"
          ]
        }
      ]
    },
    {
      "cell_type": "code",
      "source": [
        ""
      ],
      "metadata": {
        "colab": {
          "base_uri": "https://localhost:8080/"
        },
        "id": "oS5GXe0sx1yO",
        "outputId": "e2154d0a-df66-40fd-cc6a-7acfe2f8f863"
      },
      "execution_count": 19,
      "outputs": [
        {
          "output_type": "stream",
          "name": "stderr",
          "text": [
            "/usr/local/lib/python3.7/dist-packages/numpy/lib/npyio.py:1378: VisibleDeprecationWarning: Creating an ndarray from ragged nested sequences (which is a list-or-tuple of lists-or-tuples-or ndarrays with different lengths or shapes) is deprecated. If you meant to do this, you must specify 'dtype=object' when creating the ndarray.\n",
            "  X = np.asarray(X)\n"
          ]
        }
      ]
    },
    {
      "cell_type": "code",
      "source": [
        "def report_coef(names, coef):\n",
        "    r = pd.DataFrame( { 'coef': coef, 'more_imp': coef>=30  }, index = names )\n",
        "    r = r.sort_values(by=['coef'])\n",
        "    r.to_csv(\"BestModelNeuralNet.csv\")\n",
        "    display(r)\n",
        "   \n",
        "    data_range = r[(r['coef'] >=30 )]\n",
        "    ax = data_range['coef'].plot(kind='barh', color=data_range['more_imp'].map(\n",
        "        {True: 'r', False: 'b'}), figsize=(11, 8))\n",
        "    \n",
        "    for container in ax.containers:\n",
        "        ax.bar_label(container)\n",
        "    \n",
        "    plt.xlabel(\"Sum of Absolute Values of Weights\")\n",
        "\n",
        "    \n",
        "report_coef(\n",
        "  X1,\n",
        "  array1) "
      ],
      "metadata": {
        "colab": {
          "base_uri": "https://localhost:8080/",
          "height": 904
        },
        "id": "Q1Igqt7fx0-_",
        "outputId": "70c6860c-408c-43b2-a820-79bf2243adcd"
      },
      "execution_count": 44,
      "outputs": [
        {
          "output_type": "display_data",
          "data": {
            "text/plain": [
              "                                               coef  more_imp\n",
              "diff_days                                  8.250000     False\n",
              "ActiveScheduleFirstPaymentReached_nan      9.080000     False\n",
              "Restructured_nan                           9.370000     False\n",
              "EmploymentDurationCurrentEmployer_nan      9.400000     False\n",
              "EmploymentDurationCurrentEmployer_Other    9.430000     False\n",
              "...                                             ...       ...\n",
              "PlannedInterestTillDate                  143.050003      True\n",
              "PrincipalPaymentsMade                    150.610001      True\n",
              "Status_Late                              263.850006      True\n",
              "InterestAndPenaltyPaymentsMade           383.970001      True\n",
              "PrincipalOverdueBySchedule               817.640015      True\n",
              "\n",
              "[71 rows x 2 columns]"
            ],
            "text/html": [
              "\n",
              "  <div id=\"df-0850a808-00a6-40ae-a70c-3f0db0cd6853\">\n",
              "    <div class=\"colab-df-container\">\n",
              "      <div>\n",
              "<style scoped>\n",
              "    .dataframe tbody tr th:only-of-type {\n",
              "        vertical-align: middle;\n",
              "    }\n",
              "\n",
              "    .dataframe tbody tr th {\n",
              "        vertical-align: top;\n",
              "    }\n",
              "\n",
              "    .dataframe thead th {\n",
              "        text-align: right;\n",
              "    }\n",
              "</style>\n",
              "<table border=\"1\" class=\"dataframe\">\n",
              "  <thead>\n",
              "    <tr style=\"text-align: right;\">\n",
              "      <th></th>\n",
              "      <th>coef</th>\n",
              "      <th>more_imp</th>\n",
              "    </tr>\n",
              "  </thead>\n",
              "  <tbody>\n",
              "    <tr>\n",
              "      <th>diff_days</th>\n",
              "      <td>8.250000</td>\n",
              "      <td>False</td>\n",
              "    </tr>\n",
              "    <tr>\n",
              "      <th>ActiveScheduleFirstPaymentReached_nan</th>\n",
              "      <td>9.080000</td>\n",
              "      <td>False</td>\n",
              "    </tr>\n",
              "    <tr>\n",
              "      <th>Restructured_nan</th>\n",
              "      <td>9.370000</td>\n",
              "      <td>False</td>\n",
              "    </tr>\n",
              "    <tr>\n",
              "      <th>EmploymentDurationCurrentEmployer_nan</th>\n",
              "      <td>9.400000</td>\n",
              "      <td>False</td>\n",
              "    </tr>\n",
              "    <tr>\n",
              "      <th>EmploymentDurationCurrentEmployer_Other</th>\n",
              "      <td>9.430000</td>\n",
              "      <td>False</td>\n",
              "    </tr>\n",
              "    <tr>\n",
              "      <th>...</th>\n",
              "      <td>...</td>\n",
              "      <td>...</td>\n",
              "    </tr>\n",
              "    <tr>\n",
              "      <th>PlannedInterestTillDate</th>\n",
              "      <td>143.050003</td>\n",
              "      <td>True</td>\n",
              "    </tr>\n",
              "    <tr>\n",
              "      <th>PrincipalPaymentsMade</th>\n",
              "      <td>150.610001</td>\n",
              "      <td>True</td>\n",
              "    </tr>\n",
              "    <tr>\n",
              "      <th>Status_Late</th>\n",
              "      <td>263.850006</td>\n",
              "      <td>True</td>\n",
              "    </tr>\n",
              "    <tr>\n",
              "      <th>InterestAndPenaltyPaymentsMade</th>\n",
              "      <td>383.970001</td>\n",
              "      <td>True</td>\n",
              "    </tr>\n",
              "    <tr>\n",
              "      <th>PrincipalOverdueBySchedule</th>\n",
              "      <td>817.640015</td>\n",
              "      <td>True</td>\n",
              "    </tr>\n",
              "  </tbody>\n",
              "</table>\n",
              "<p>71 rows × 2 columns</p>\n",
              "</div>\n",
              "      <button class=\"colab-df-convert\" onclick=\"convertToInteractive('df-0850a808-00a6-40ae-a70c-3f0db0cd6853')\"\n",
              "              title=\"Convert this dataframe to an interactive table.\"\n",
              "              style=\"display:none;\">\n",
              "        \n",
              "  <svg xmlns=\"http://www.w3.org/2000/svg\" height=\"24px\"viewBox=\"0 0 24 24\"\n",
              "       width=\"24px\">\n",
              "    <path d=\"M0 0h24v24H0V0z\" fill=\"none\"/>\n",
              "    <path d=\"M18.56 5.44l.94 2.06.94-2.06 2.06-.94-2.06-.94-.94-2.06-.94 2.06-2.06.94zm-11 1L8.5 8.5l.94-2.06 2.06-.94-2.06-.94L8.5 2.5l-.94 2.06-2.06.94zm10 10l.94 2.06.94-2.06 2.06-.94-2.06-.94-.94-2.06-.94 2.06-2.06.94z\"/><path d=\"M17.41 7.96l-1.37-1.37c-.4-.4-.92-.59-1.43-.59-.52 0-1.04.2-1.43.59L10.3 9.45l-7.72 7.72c-.78.78-.78 2.05 0 2.83L4 21.41c.39.39.9.59 1.41.59.51 0 1.02-.2 1.41-.59l7.78-7.78 2.81-2.81c.8-.78.8-2.07 0-2.86zM5.41 20L4 18.59l7.72-7.72 1.47 1.35L5.41 20z\"/>\n",
              "  </svg>\n",
              "      </button>\n",
              "      \n",
              "  <style>\n",
              "    .colab-df-container {\n",
              "      display:flex;\n",
              "      flex-wrap:wrap;\n",
              "      gap: 12px;\n",
              "    }\n",
              "\n",
              "    .colab-df-convert {\n",
              "      background-color: #E8F0FE;\n",
              "      border: none;\n",
              "      border-radius: 50%;\n",
              "      cursor: pointer;\n",
              "      display: none;\n",
              "      fill: #1967D2;\n",
              "      height: 32px;\n",
              "      padding: 0 0 0 0;\n",
              "      width: 32px;\n",
              "    }\n",
              "\n",
              "    .colab-df-convert:hover {\n",
              "      background-color: #E2EBFA;\n",
              "      box-shadow: 0px 1px 2px rgba(60, 64, 67, 0.3), 0px 1px 3px 1px rgba(60, 64, 67, 0.15);\n",
              "      fill: #174EA6;\n",
              "    }\n",
              "\n",
              "    [theme=dark] .colab-df-convert {\n",
              "      background-color: #3B4455;\n",
              "      fill: #D2E3FC;\n",
              "    }\n",
              "\n",
              "    [theme=dark] .colab-df-convert:hover {\n",
              "      background-color: #434B5C;\n",
              "      box-shadow: 0px 1px 3px 1px rgba(0, 0, 0, 0.15);\n",
              "      filter: drop-shadow(0px 1px 2px rgba(0, 0, 0, 0.3));\n",
              "      fill: #FFFFFF;\n",
              "    }\n",
              "  </style>\n",
              "\n",
              "      <script>\n",
              "        const buttonEl =\n",
              "          document.querySelector('#df-0850a808-00a6-40ae-a70c-3f0db0cd6853 button.colab-df-convert');\n",
              "        buttonEl.style.display =\n",
              "          google.colab.kernel.accessAllowed ? 'block' : 'none';\n",
              "\n",
              "        async function convertToInteractive(key) {\n",
              "          const element = document.querySelector('#df-0850a808-00a6-40ae-a70c-3f0db0cd6853');\n",
              "          const dataTable =\n",
              "            await google.colab.kernel.invokeFunction('convertToInteractive',\n",
              "                                                     [key], {});\n",
              "          if (!dataTable) return;\n",
              "\n",
              "          const docLinkHtml = 'Like what you see? Visit the ' +\n",
              "            '<a target=\"_blank\" href=https://colab.research.google.com/notebooks/data_table.ipynb>data table notebook</a>'\n",
              "            + ' to learn more about interactive tables.';\n",
              "          element.innerHTML = '';\n",
              "          dataTable['output_type'] = 'display_data';\n",
              "          await google.colab.output.renderOutput(dataTable, element);\n",
              "          const docLink = document.createElement('div');\n",
              "          docLink.innerHTML = docLinkHtml;\n",
              "          element.appendChild(docLink);\n",
              "        }\n",
              "      </script>\n",
              "    </div>\n",
              "  </div>\n",
              "  "
            ]
          },
          "metadata": {}
        },
        {
          "output_type": "display_data",
          "data": {
            "text/plain": [
              "<Figure size 792x576 with 1 Axes>"
            ],
            "image/png": "[encoded data removed]"
          },
          "metadata": {
            "needs_background": "light"
          }
        }
      ]
    },
    {
      "cell_type": "code",
      "source": [
        "# Let's look at history of training errors in the best_model retraining"
      ],
      "metadata": {
        "id": "c2lV7jnNx1Ly"
      },
      "execution_count": 38,
      "outputs": []
    },
    {
      "cell_type": "code",
      "source": [
        "!pip install plot_keras_history\n",
        "from plot_keras_history import show_history, plot_history\n",
        "print(best_model.history)\n",
        "\n"
      ],
      "metadata": {
        "colab": {
          "base_uri": "https://localhost:8080/"
        },
        "id": "PAVam73IDFM8",
        "outputId": "3ffd800b-9cd0-4b97-ef99-3ce9e7e091aa"
      },
      "execution_count": 52,
      "outputs": [
        {
          "output_type": "stream",
          "name": "stdout",
          "text": [
            "Looking in indexes: https://pypi.org/simple, https://us-python.pkg.dev/colab-wheels/public/simple/\n",
            "Requirement already satisfied: plot_keras_history in /usr/local/lib/python3.7/dist-packages (1.1.36)\n",
            "Requirement already satisfied: matplotlib in /usr/local/lib/python3.7/dist-packages (from plot_keras_history) (3.5.2)\n",
            "Requirement already satisfied: scipy in /usr/local/lib/python3.7/dist-packages (from plot_keras_history) (1.4.1)\n",
            "Requirement already satisfied: sanitize-ml-labels>=1.0.33 in /usr/local/lib/python3.7/dist-packages (from plot_keras_history) (1.0.42)\n",
            "Requirement already satisfied: pandas in /usr/local/lib/python3.7/dist-packages (from plot_keras_history) (1.3.5)\n",
            "Requirement already satisfied: compress-json in /usr/local/lib/python3.7/dist-packages (from sanitize-ml-labels>=1.0.33->plot_keras_history) (1.0.7)\n",
            "Requirement already satisfied: kiwisolver>=1.0.1 in /usr/local/lib/python3.7/dist-packages (from matplotlib->plot_keras_history) (1.4.3)\n",
            "Requirement already satisfied: pillow>=6.2.0 in /usr/local/lib/python3.7/dist-packages (from matplotlib->plot_keras_history) (7.1.2)\n",
            "Requirement already satisfied: packaging>=20.0 in /usr/local/lib/python3.7/dist-packages (from matplotlib->plot_keras_history) (21.3)\n",
            "Requirement already satisfied: fonttools>=4.22.0 in /usr/local/lib/python3.7/dist-packages (from matplotlib->plot_keras_history) (4.33.3)\n",
            "Requirement already satisfied: numpy>=1.17 in /usr/local/lib/python3.7/dist-packages (from matplotlib->plot_keras_history) (1.21.6)\n",
            "Requirement already satisfied: cycler>=0.10 in /usr/local/lib/python3.7/dist-packages (from matplotlib->plot_keras_history) (0.11.0)\n",
            "Requirement already satisfied: pyparsing>=2.2.1 in /usr/local/lib/python3.7/dist-packages (from matplotlib->plot_keras_history) (3.0.9)\n",
            "Requirement already satisfied: python-dateutil>=2.7 in /usr/local/lib/python3.7/dist-packages (from matplotlib->plot_keras_history) (2.8.2)\n",
            "Requirement already satisfied: typing-extensions in /usr/local/lib/python3.7/dist-packages (from kiwisolver>=1.0.1->matplotlib->plot_keras_history) (4.1.1)\n",
            "Requirement already satisfied: six>=1.5 in /usr/local/lib/python3.7/dist-packages (from python-dateutil>=2.7->matplotlib->plot_keras_history) (1.15.0)\n",
            "Requirement already satisfied: pytz>=2017.3 in /usr/local/lib/python3.7/dist-packages (from pandas->plot_keras_history) (2022.1)\n",
            "<keras.callbacks.History object at 0x7f9d86d9e3d0>\n"
          ]
        }
      ]
    },
    {
      "cell_type": "code",
      "source": [
        "print(best_model.history.history.keys())"
      ],
      "metadata": {
        "colab": {
          "base_uri": "https://localhost:8080/"
        },
        "id": "0TwnA4HYFB2S",
        "outputId": "85ebda82-1343-4759-ab27-779a7e4db76b"
      },
      "execution_count": 55,
      "outputs": [
        {
          "output_type": "stream",
          "name": "stdout",
          "text": [
            "dict_keys(['loss', 'accuracy'])\n"
          ]
        }
      ]
    },
    {
      "cell_type": "code",
      "source": [
        "plt.plot(best_model.history.history['accuracy'])\n",
        "plt.xlabel(\"Epoch\")\n",
        "plt.ylabel(\"Training Accuracy\")\n",
        "plt.legend(['train'], loc = 'lower right')\n",
        "plt.title(\"Model Accuracy\")\n"
      ],
      "metadata": {
        "colab": {
          "base_uri": "https://localhost:8080/",
          "height": 312
        },
        "id": "Smhp_GBBFB6h",
        "outputId": "283b070d-9c20-4425-8236-0ae38b132df9"
      },
      "execution_count": 65,
      "outputs": [
        {
          "output_type": "execute_result",
          "data": {
            "text/plain": [
              "Text(0.5, 1.0, 'Model Accuracy')"
            ]
          },
          "metadata": {},
          "execution_count": 65
        },
        {
          "output_type": "display_data",
          "data": {
            "text/plain": [
              "<Figure size 432x288 with 1 Axes>"
            ],
            "image/png": "[encoded data removed]"
          },
          "metadata": {
            "needs_background": "light"
          }
        }
      ]
    },
    {
      "cell_type": "code",
      "source": [
        "plt.plot(best_model.history.history['loss'])\n",
        "plt.xlabel(\"Epoch\")\n",
        "plt.ylabel(\"Loss\")\n",
        "plt.legend(['train'], loc = 'upper right')\n",
        "plt.title(\"Model Loss\")"
      ],
      "metadata": {
        "colab": {
          "base_uri": "https://localhost:8080/",
          "height": 312
        },
        "id": "bMF22MJ1K3eM",
        "outputId": "3a861903-ea65-4b79-ea90-6e0e00dee478"
      },
      "execution_count": 66,
      "outputs": [
        {
          "output_type": "execute_result",
          "data": {
            "text/plain": [
              "Text(0.5, 1.0, 'Model Loss')"
            ]
          },
          "metadata": {},
          "execution_count": 66
        },
        {
          "output_type": "display_data",
          "data": {
            "text/plain": [
              "<Figure size 432x288 with 1 Axes>"
            ],
            "image/png": "[encoded data removed]"
          },
          "metadata": {
            "needs_background": "light"
          }
        }
      ]
    },
    {
      "cell_type": "code",
      "source": [
        ""
      ],
      "metadata": {
        "id": "zvkzOF5NLEE6"
      },
      "execution_count": null,
      "outputs": []
    }
  ],
  "metadata": {
    "colab": {
      "name": "ProjectTFFile_With_TuningLatest.ipynb",
      "provenance": []
    },
    "kernelspec": {
      "display_name": "Python 3",
      "name": "python3"
    },
    "language_info": {
      "name": "python"
    }
  },
  "nbformat": 4,
  "nbformat_minor": 0
}