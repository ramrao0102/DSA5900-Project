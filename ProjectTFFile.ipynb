{
  "nbformat": 4,
  "nbformat_minor": 0,
  "metadata": {
    "colab": {
      "name": "ProjectTFFile.ipynb",
      "provenance": []
    },
    "kernelspec": {
      "name": "python3",
      "display_name": "Python 3"
    },
    "language_info": {
      "name": "python"
    }
  },
  "cells": [
    {
      "cell_type": "markdown",
      "source": [
        "This is Ramkishore Rao's Project - Application of Tensor Flow and Keras for Loan Dataset"
      ],
      "metadata": {
        "id": "eGDp-P08VWxL"
      }
    },
    {
      "cell_type": "code",
      "source": [
        "import tensorflow.keras\n",
        "from tensorflow . keras .models import Sequential\n",
        "from tensorflow . keras . layers import Dense , Activation\n",
        "from tensorflow . keras . callbacks import EarlyStopping\n",
        "from sklearn . model_selection import train_test_split"
      ],
      "metadata": {
        "id": "Z63s5TD4VWRk"
      },
      "execution_count": 1,
      "outputs": []
    },
    {
      "cell_type": "code",
      "source": [
        "import numpy as np\n",
        "import pandas as pd\n",
        "from sklearn import metrics\n",
        "import sklearn\n",
        "from sklearn.model_selection import train_test_split\n",
        "import io\n",
        "import requests\n",
        "from sklearn.metrics import RocCurveDisplay\n",
        "from sklearn.metrics import mean_squared_error\n",
        "from sklearn.metrics import roc_curve, auc \n",
        "import matplotlib.pyplot as plt\n",
        "\n"
      ],
      "metadata": {
        "id": "M7F7rUn0VmSV"
      },
      "execution_count": 2,
      "outputs": []
    },
    {
      "cell_type": "code",
      "source": [
        "\n",
        "\n",
        "df = pd.read_csv('/content/initialmodel2.csv', on_bad_lines=\"skip\", engine=\"python\")\n"
      ],
      "metadata": {
        "id": "mkFu3gdwVmZU"
      },
      "execution_count": 5,
      "outputs": []
    },
    {
      "cell_type": "code",
      "source": [
        "df.head()\n",
        "len(df)"
      ],
      "metadata": {
        "colab": {
          "base_uri": "https://localhost:8080/"
        },
        "id": "xGCcFtXipn9e",
        "outputId": "a3da62c8-a1a4-44a0-ec01-c6db09f408cb"
      },
      "execution_count": 6,
      "outputs": [
        {
          "output_type": "execute_result",
          "data": {
            "text/plain": [
              "209011"
            ]
          },
          "metadata": {},
          "execution_count": 6
        }
      ]
    },
    {
      "cell_type": "markdown",
      "source": [
        "# New Section"
      ],
      "metadata": {
        "id": "wVtHDXUkwGPn"
      }
    },
    {
      "cell_type": "code",
      "source": [
        "df1 = df.pop('Defaulted')\n",
        "\n",
        "df['Defaulted'] = df1\n",
        "\n",
        "df.drop(['Unnamed: 0'] , axis = 1, inplace =True)\n",
        "\n",
        "df = df.dropna()\n",
        "print(df.head())\n",
        "\n"
      ],
      "metadata": {
        "colab": {
          "base_uri": "https://localhost:8080/"
        },
        "id": "bkEuRwa6poFk",
        "outputId": "58c0471a-b352-4e42-e297-b27c11367f59"
      },
      "execution_count": 7,
      "outputs": [
        {
          "output_type": "stream",
          "name": "stdout",
          "text": [
            "   VerificationType  LanguageCode       Age  Gender  AppliedAmount    Amount  \\\n",
            "0               4.0             1  0.673077     1.0       0.192041  0.192041   \n",
            "1               1.0             1  0.615385     1.0       0.275145  0.275145   \n",
            "2               4.0             1  0.500000     0.0       0.999810  0.854497   \n",
            "3               3.0             6  0.461538     0.0       0.132681  0.132681   \n",
            "4               4.0             6  0.307692     1.0       0.141704  0.093741   \n",
            "\n",
            "   Interest  LoanDuration  MonthlyPayment  UseOfLoan  ...  Rating_F  \\\n",
            "0  0.053336      0.487179        0.026198          2  ...         0   \n",
            "1  0.038358      0.487179        0.035782          3  ...         0   \n",
            "2  0.024937      0.487179        0.113391          3  ...         0   \n",
            "3  0.128924      0.487179        0.026822          2  ...         1   \n",
            "4  0.237814      0.384615        0.042723          7  ...         0   \n",
            "\n",
            "   Rating_HR  Rating_nan  Status_Late  Status_Repaid  Status_nan  \\\n",
            "0          0           0            1              0           0   \n",
            "1          0           0            1              0           0   \n",
            "2          0           0            0              1           0   \n",
            "3          0           0            1              0           0   \n",
            "4          1           0            1              0           0   \n",
            "\n",
            "   Restructured_True  Restructured_nan  diff_days  Defaulted  \n",
            "0                  0                 0     1556.0          1  \n",
            "1                  0                 0     1849.0          1  \n",
            "2                  0                 0     1828.0          1  \n",
            "3                  0                 0     1832.0          1  \n",
            "4                  0                 0     1472.0          1  \n",
            "\n",
            "[5 rows x 72 columns]\n"
          ]
        }
      ]
    },
    {
      "cell_type": "markdown",
      "source": [
        "Split dataframe into X and y"
      ],
      "metadata": {
        "id": "XSmNN0uTsRn0"
      }
    },
    {
      "cell_type": "code",
      "source": [
        "X = df.iloc[:, :-1]\n",
        "\n",
        "Y = df.iloc[:,-1].astype(int)\n",
        "\n",
        "# Split into train and test\n",
        "\n",
        "X_train, X_test, y_train, y_test = train_test_split(X, Y, random_state = 1, test_size = 0.2)\n"
      ],
      "metadata": {
        "id": "Vg_t1e7Xq9Ol"
      },
      "execution_count": 8,
      "outputs": []
    },
    {
      "cell_type": "markdown",
      "source": [
        "Split train into train1 and val1"
      ],
      "metadata": {
        "id": "gJEJSBUvstPd"
      }
    },
    {
      "cell_type": "code",
      "source": [
        "X_train1, X_val1, y_train1, y_val1 = train_test_split(X_train, y_train, random_state = 1, test_size = 0.15)"
      ],
      "metadata": {
        "id": "W5JdPoVTq9ex"
      },
      "execution_count": 10,
      "outputs": []
    },
    {
      "cell_type": "code",
      "source": [
        "\n",
        "model = Sequential()\n",
        "model.add(Dense(100, input_dim=X_train1.shape[1], activation='relu',\n",
        "                kernel_initializer='random_normal'))\n",
        "model.add(Dense(50,activation='relu',kernel_initializer='random_normal'))\n",
        "model.add(Dense(25,activation='relu',kernel_initializer='random_normal'))\n",
        "model.add(Dense(1,activation='sigmoid',kernel_initializer='random_normal'))\n",
        "model.compile(loss='binary_crossentropy', \n",
        "              optimizer=tensorflow.keras.optimizers.Adam(),\n",
        "              metrics =['accuracy'])\n",
        "monitor = EarlyStopping(monitor='val_loss', min_delta=1e-3, \n",
        "    patience=5, verbose=1, mode='auto', restore_best_weights=True)\n",
        "\n",
        "model.fit(X_train1,y_train1,validation_data=(X_test,y_test),\n",
        "          callbacks=[monitor],verbose=2,epochs=1000)\n"
      ],
      "metadata": {
        "id": "tpZs5VkisuiH",
        "colab": {
          "base_uri": "https://localhost:8080/"
        },
        "outputId": "049d2c5e-d990-48f2-ca23-d7982c5cd61d"
      },
      "execution_count": 11,
      "outputs": [
        {
          "output_type": "stream",
          "name": "stdout",
          "text": [
            "Epoch 1/1000\n",
            "4442/4442 - 11s - loss: 0.3325 - accuracy: 0.8515 - val_loss: 0.2156 - val_accuracy: 0.9085 - 11s/epoch - 2ms/step\n",
            "Epoch 2/1000\n",
            "4442/4442 - 9s - loss: 0.2279 - accuracy: 0.9059 - val_loss: 0.2367 - val_accuracy: 0.9028 - 9s/epoch - 2ms/step\n",
            "Epoch 3/1000\n",
            "4442/4442 - 9s - loss: 0.2165 - accuracy: 0.9093 - val_loss: 0.2085 - val_accuracy: 0.9043 - 9s/epoch - 2ms/step\n",
            "Epoch 4/1000\n",
            "4442/4442 - 9s - loss: 0.2067 - accuracy: 0.9127 - val_loss: 0.1863 - val_accuracy: 0.9184 - 9s/epoch - 2ms/step\n",
            "Epoch 5/1000\n",
            "4442/4442 - 9s - loss: 0.2025 - accuracy: 0.9130 - val_loss: 0.2193 - val_accuracy: 0.9083 - 9s/epoch - 2ms/step\n",
            "Epoch 6/1000\n",
            "4442/4442 - 9s - loss: 0.1978 - accuracy: 0.9153 - val_loss: 0.2006 - val_accuracy: 0.9079 - 9s/epoch - 2ms/step\n",
            "Epoch 7/1000\n",
            "4442/4442 - 10s - loss: 0.1938 - accuracy: 0.9169 - val_loss: 0.1809 - val_accuracy: 0.9243 - 10s/epoch - 2ms/step\n",
            "Epoch 8/1000\n",
            "4442/4442 - 9s - loss: 0.1934 - accuracy: 0.9166 - val_loss: 0.1824 - val_accuracy: 0.9194 - 9s/epoch - 2ms/step\n",
            "Epoch 9/1000\n",
            "4442/4442 - 10s - loss: 0.1883 - accuracy: 0.9179 - val_loss: 0.1908 - val_accuracy: 0.9206 - 10s/epoch - 2ms/step\n",
            "Epoch 10/1000\n",
            "4442/4442 - 9s - loss: 0.1860 - accuracy: 0.9195 - val_loss: 0.1787 - val_accuracy: 0.9220 - 9s/epoch - 2ms/step\n",
            "Epoch 11/1000\n",
            "4442/4442 - 10s - loss: 0.1826 - accuracy: 0.9209 - val_loss: 0.1693 - val_accuracy: 0.9251 - 10s/epoch - 2ms/step\n",
            "Epoch 12/1000\n",
            "4442/4442 - 10s - loss: 0.1824 - accuracy: 0.9209 - val_loss: 0.1815 - val_accuracy: 0.9215 - 10s/epoch - 2ms/step\n",
            "Epoch 13/1000\n",
            "4442/4442 - 9s - loss: 0.1806 - accuracy: 0.9211 - val_loss: 0.1620 - val_accuracy: 0.9292 - 9s/epoch - 2ms/step\n",
            "Epoch 14/1000\n",
            "4442/4442 - 9s - loss: 0.1795 - accuracy: 0.9221 - val_loss: 0.1747 - val_accuracy: 0.9245 - 9s/epoch - 2ms/step\n",
            "Epoch 15/1000\n",
            "4442/4442 - 10s - loss: 0.1775 - accuracy: 0.9231 - val_loss: 0.1707 - val_accuracy: 0.9260 - 10s/epoch - 2ms/step\n",
            "Epoch 16/1000\n",
            "4442/4442 - 10s - loss: 0.1775 - accuracy: 0.9230 - val_loss: 0.1582 - val_accuracy: 0.9316 - 10s/epoch - 2ms/step\n",
            "Epoch 17/1000\n",
            "4442/4442 - 10s - loss: 0.1757 - accuracy: 0.9240 - val_loss: 0.1635 - val_accuracy: 0.9264 - 10s/epoch - 2ms/step\n",
            "Epoch 18/1000\n",
            "4442/4442 - 10s - loss: 0.1733 - accuracy: 0.9247 - val_loss: 0.1613 - val_accuracy: 0.9316 - 10s/epoch - 2ms/step\n",
            "Epoch 19/1000\n",
            "4442/4442 - 9s - loss: 0.1719 - accuracy: 0.9251 - val_loss: 0.1659 - val_accuracy: 0.9282 - 9s/epoch - 2ms/step\n",
            "Epoch 20/1000\n",
            "4442/4442 - 10s - loss: 0.1710 - accuracy: 0.9256 - val_loss: 0.1537 - val_accuracy: 0.9319 - 10s/epoch - 2ms/step\n",
            "Epoch 21/1000\n",
            "4442/4442 - 9s - loss: 0.1698 - accuracy: 0.9267 - val_loss: 0.1695 - val_accuracy: 0.9276 - 9s/epoch - 2ms/step\n",
            "Epoch 22/1000\n",
            "4442/4442 - 10s - loss: 0.1700 - accuracy: 0.9265 - val_loss: 0.9965 - val_accuracy: 0.8227 - 10s/epoch - 2ms/step\n",
            "Epoch 23/1000\n",
            "4442/4442 - 9s - loss: 0.1705 - accuracy: 0.9267 - val_loss: 0.1597 - val_accuracy: 0.9299 - 9s/epoch - 2ms/step\n",
            "Epoch 24/1000\n",
            "4442/4442 - 9s - loss: 0.1659 - accuracy: 0.9285 - val_loss: 0.1653 - val_accuracy: 0.9290 - 9s/epoch - 2ms/step\n",
            "Epoch 25/1000\n",
            "Restoring model weights from the end of the best epoch: 20.\n",
            "4442/4442 - 10s - loss: 0.1671 - accuracy: 0.9276 - val_loss: 0.1529 - val_accuracy: 0.9338 - 10s/epoch - 2ms/step\n",
            "Epoch 25: early stopping\n"
          ]
        },
        {
          "output_type": "execute_result",
          "data": {
            "text/plain": [
              "<keras.callbacks.History at 0x7f4566906390>"
            ]
          },
          "metadata": {},
          "execution_count": 11
        }
      ]
    },
    {
      "cell_type": "code",
      "source": [
        "pred = model.predict(X_test)\n",
        "pred"
      ],
      "metadata": {
        "colab": {
          "base_uri": "https://localhost:8080/"
        },
        "id": "GZj9OzaQz_Wq",
        "outputId": "1c7a0309-2d32-44e5-cb53-d1c4f94ade47"
      },
      "execution_count": 12,
      "outputs": [
        {
          "output_type": "execute_result",
          "data": {
            "text/plain": [
              "array([[0.00186887],\n",
              "       [0.7503825 ],\n",
              "       [1.        ],\n",
              "       ...,\n",
              "       [0.04310513],\n",
              "       [0.20603082],\n",
              "       [1.        ]], dtype=float32)"
            ]
          },
          "metadata": {},
          "execution_count": 12
        }
      ]
    },
    {
      "cell_type": "code",
      "source": [
        "mse2 = mean_squared_error(pred, y_test, squared=False)"
      ],
      "metadata": {
        "id": "cm-90dEXz_dn"
      },
      "execution_count": 15,
      "outputs": []
    },
    {
      "cell_type": "code",
      "source": [
        "mse2"
      ],
      "metadata": {
        "id": "N_mnZ8FUxR1B",
        "colab": {
          "base_uri": "https://localhost:8080/"
        },
        "outputId": "75204214-aa6a-41a6-a96d-99514575f06d"
      },
      "execution_count": 16,
      "outputs": [
        {
          "output_type": "execute_result",
          "data": {
            "text/plain": [
              "0.2181292399460493"
            ]
          },
          "metadata": {},
          "execution_count": 16
        }
      ]
    },
    {
      "cell_type": "code",
      "source": [
        "pred1 = np.round(pred) # this takes continues output and transforms to binary values of 0 and 1"
      ],
      "metadata": {
        "id": "hgChC-It8MW9"
      },
      "execution_count": 17,
      "outputs": []
    },
    {
      "cell_type": "code",
      "source": [
        "pred1 # this is the output target value array for the test dataset"
      ],
      "metadata": {
        "colab": {
          "base_uri": "https://localhost:8080/"
        },
        "id": "a4Zdoei-8Y1P",
        "outputId": "dd9d8938-a7b5-4678-8e9c-a2f63b4dcda6"
      },
      "execution_count": 18,
      "outputs": [
        {
          "output_type": "execute_result",
          "data": {
            "text/plain": [
              "array([[0.],\n",
              "       [1.],\n",
              "       [1.],\n",
              "       ...,\n",
              "       [0.],\n",
              "       [0.],\n",
              "       [1.]], dtype=float32)"
            ]
          },
          "metadata": {},
          "execution_count": 18
        }
      ]
    },
    {
      "cell_type": "code",
      "source": [
        "from sklearn.metrics import accuracy_score\n",
        "from sklearn.metrics import f1_score\n",
        "from sklearn.metrics import precision_score\n",
        "from sklearn.metrics import recall_score\n",
        "from sklearn.metrics import roc_auc_score\n",
        "from sklearn.metrics import confusion_matrix\n",
        "from sklearn.metrics import f1_score"
      ],
      "metadata": {
        "id": "cO6_BTtB3KKR"
      },
      "execution_count": 19,
      "outputs": []
    },
    {
      "cell_type": "code",
      "source": [
        "accuracy1 = accuracy_score(y_test, pred1)\n",
        "precision1 = precision_score(y_test, pred1)\n",
        "recall1 = recall_score(y_test, pred1)\n",
        "F1_score = f1_score(y_test, pred1)\n",
        "confusion_mat_test = confusion_matrix(y_test, pred1)"
      ],
      "metadata": {
        "id": "b2VuLNtu3Oke"
      },
      "execution_count": 20,
      "outputs": []
    },
    {
      "cell_type": "code",
      "source": [
        "confusion_mat_test"
      ],
      "metadata": {
        "id": "NlA3T4WZ3PTG",
        "colab": {
          "base_uri": "https://localhost:8080/"
        },
        "outputId": "17e9076a-8b3f-48e1-f40e-c143930001c9"
      },
      "execution_count": 21,
      "outputs": [
        {
          "output_type": "execute_result",
          "data": {
            "text/plain": [
              "array([[26145,  1042],\n",
              "       [ 1803, 12812]])"
            ]
          },
          "metadata": {},
          "execution_count": 21
        }
      ]
    },
    {
      "cell_type": "code",
      "source": [
        "accuracy1"
      ],
      "metadata": {
        "id": "un8VE8lI3PcG",
        "colab": {
          "base_uri": "https://localhost:8080/"
        },
        "outputId": "97e5086f-0210-4503-c11c-1f369fa42978"
      },
      "execution_count": 22,
      "outputs": [
        {
          "output_type": "execute_result",
          "data": {
            "text/plain": [
              "0.9319410554518922"
            ]
          },
          "metadata": {},
          "execution_count": 22
        }
      ]
    },
    {
      "cell_type": "code",
      "source": [
        "precision1"
      ],
      "metadata": {
        "colab": {
          "base_uri": "https://localhost:8080/"
        },
        "id": "ZbBvms2N8js1",
        "outputId": "44e1e184-fcd4-4951-edcd-092b4368e2ee"
      },
      "execution_count": 23,
      "outputs": [
        {
          "output_type": "execute_result",
          "data": {
            "text/plain": [
              "0.9247870651075502"
            ]
          },
          "metadata": {},
          "execution_count": 23
        }
      ]
    },
    {
      "cell_type": "code",
      "source": [
        "recall1"
      ],
      "metadata": {
        "colab": {
          "base_uri": "https://localhost:8080/"
        },
        "id": "Fqf90_vf8mtW",
        "outputId": "49627599-bb71-4b13-b7c1-dd9e00d2516a"
      },
      "execution_count": 24,
      "outputs": [
        {
          "output_type": "execute_result",
          "data": {
            "text/plain": [
              "0.8766335956209373"
            ]
          },
          "metadata": {},
          "execution_count": 24
        }
      ]
    },
    {
      "cell_type": "code",
      "source": [
        "F1_score"
      ],
      "metadata": {
        "colab": {
          "base_uri": "https://localhost:8080/"
        },
        "id": "AHcb0Rur8nNi",
        "outputId": "ff14e945-ec8a-4305-cdf1-3186444254b1"
      },
      "execution_count": 25,
      "outputs": [
        {
          "output_type": "execute_result",
          "data": {
            "text/plain": [
              "0.900066739260248"
            ]
          },
          "metadata": {},
          "execution_count": 25
        }
      ]
    },
    {
      "cell_type": "code",
      "source": [
        "auc= roc_auc_score(y_test, pred)\n",
        "\n",
        "print(auc)"
      ],
      "metadata": {
        "colab": {
          "base_uri": "https://localhost:8080/"
        },
        "id": "UU2JwR46xvOl",
        "outputId": "7ca36c0c-47ed-4b1c-fa6e-14652493d3f4"
      },
      "execution_count": 26,
      "outputs": [
        {
          "output_type": "stream",
          "name": "stdout",
          "text": [
            "0.9841021323897773\n"
          ]
        }
      ]
    },
    {
      "cell_type": "code",
      "source": [
        "# Plot an ROC. pred - the predictions, y - the expected output.\n",
        "def plot_roc_curve(fper, tper):  \n",
        "    plt.plot(fper, tper, color='orange', label='ROC')\n",
        "    plt.plot([0, 1], [0, 1], color='darkblue', linestyle='--')\n",
        "    plt.xlabel('False Positive Rate')\n",
        "    plt.ylabel('True Positive Rate')\n",
        "    plt.title('Receiver Operating Characteristic (ROC) Curve')\n",
        "    plt.legend()\n",
        "    plt.show()"
      ],
      "metadata": {
        "id": "4rOl9Cb5xvWa"
      },
      "execution_count": 30,
      "outputs": []
    },
    {
      "cell_type": "code",
      "source": [
        "pred = model.predict(X_test)\n",
        "fper, tper, thresholds = roc_curve(y_test, pred) \n",
        "plot_roc_curve(fper, tper)"
      ],
      "metadata": {
        "colab": {
          "base_uri": "https://localhost:8080/",
          "height": 295
        },
        "id": "5e1LpAKUxvY6",
        "outputId": "084ddccc-a4fa-4ed5-aa46-e805385e4d13"
      },
      "execution_count": 32,
      "outputs": [
        {
          "output_type": "display_data",
          "data": {
            "text/plain": [
              "<Figure size 432x288 with 1 Axes>"
            ],
            "image/png": "[encoded data removed]"
          },
          "metadata": {
            "needs_background": "light"
          }
        }
      ]
    },
    {
      "cell_type": "code",
      "source": [
        ""
      ],
      "metadata": {
        "id": "wf8hrQImxvcE"
      },
      "execution_count": null,
      "outputs": []
    }
  ]
}