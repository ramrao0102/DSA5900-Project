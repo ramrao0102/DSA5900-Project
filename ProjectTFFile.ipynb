{
  "nbformat": 4,
  "nbformat_minor": 0,
  "metadata": {
    "colab": {
      "name": "ProjectTFFile.ipynb",
      "provenance": []
    },
    "kernelspec": {
      "name": "python3",
      "display_name": "Python 3"
    },
    "language_info": {
      "name": "python"
    }
  },
  "cells": [
    {
      "cell_type": "markdown",
      "source": [
        "This is Ramkishore Rao's Project - Application of Tensor Flow and Keras for Loan Dataset"
      ],
      "metadata": {
        "id": "eGDp-P08VWxL"
      }
    },
    {
      "cell_type": "code",
      "source": [
        "import tensorflow.keras\n",
        "from tensorflow . keras .models import Sequential\n",
        "from tensorflow . keras . layers import Dense , Activation\n",
        "from tensorflow . keras . callbacks import EarlyStopping\n",
        "from sklearn . model_selection import train_test_split"
      ],
      "metadata": {
        "id": "Z63s5TD4VWRk"
      },
      "execution_count": null,
      "outputs": []
    },
    {
      "cell_type": "code",
      "source": [
        "import numpy as np\n",
        "import pandas as pd\n",
        "from sklearn import metrics\n",
        "import sklearn\n",
        "from sklearn.model_selection import train_test_split\n",
        "import io\n",
        "import requests\n",
        "from sklearn.metrics import RocCurveDisplay\n",
        "from sklearn.metrics import mean_squared_error\n",
        "from sklearn.metrics import roc_curve, auc \n",
        "import matplotlib.pyplot as plt\n",
        "\n"
      ],
      "metadata": {
        "id": "M7F7rUn0VmSV"
      },
      "execution_count": 53,
      "outputs": []
    },
    {
      "cell_type": "code",
      "source": [
        "\n",
        "\n",
        "df = pd.read_csv('/initialmodel2.csv', on_bad_lines=\"skip\", engine=\"python\")\n"
      ],
      "metadata": {
        "id": "mkFu3gdwVmZU"
      },
      "execution_count": null,
      "outputs": []
    },
    {
      "cell_type": "code",
      "source": [
        "df.head()\n",
        "len(df)"
      ],
      "metadata": {
        "colab": {
          "base_uri": "https://localhost:8080/"
        },
        "id": "xGCcFtXipn9e",
        "outputId": "e53c1c8c-7277-480e-b636-d8358ab5321a"
      },
      "execution_count": null,
      "outputs": [
        {
          "output_type": "execute_result",
          "data": {
            "text/plain": [
              "209011"
            ]
          },
          "metadata": {},
          "execution_count": 25
        }
      ]
    },
    {
      "cell_type": "markdown",
      "source": [
        "# New Section"
      ],
      "metadata": {
        "id": "wVtHDXUkwGPn"
      }
    },
    {
      "cell_type": "code",
      "source": [
        "df1 = df.pop('Defaulted')\n",
        "\n",
        "df['Defaulted'] = df1\n",
        "\n",
        "df.drop(['Unnamed: 0'] , axis = 1, inplace =True)\n",
        "\n",
        "df = df.dropna()\n",
        "print(df.head())\n",
        "\n"
      ],
      "metadata": {
        "colab": {
          "base_uri": "https://localhost:8080/"
        },
        "id": "bkEuRwa6poFk",
        "outputId": "444dc67b-debc-4f69-f300-6d0f4af26f11"
      },
      "execution_count": null,
      "outputs": [
        {
          "output_type": "stream",
          "name": "stdout",
          "text": [
            "   VerificationType  LanguageCode       Age  Gender  AppliedAmount    Amount  \\\n",
            "0               4.0             1  0.673077     1.0       0.192041  0.192041   \n",
            "1               1.0             1  0.615385     1.0       0.275145  0.275145   \n",
            "2               4.0             1  0.500000     0.0       0.999810  0.854497   \n",
            "3               3.0             6  0.461538     0.0       0.132681  0.132681   \n",
            "4               4.0             6  0.307692     1.0       0.141704  0.093741   \n",
            "\n",
            "   Interest  LoanDuration  MonthlyPayment  UseOfLoan  ...  Rating_F  \\\n",
            "0  0.053336      0.487179        0.026198          2  ...         0   \n",
            "1  0.038358      0.487179        0.035782          3  ...         0   \n",
            "2  0.024937      0.487179        0.113391          3  ...         0   \n",
            "3  0.128924      0.487179        0.026822          2  ...         1   \n",
            "4  0.237814      0.384615        0.042723          7  ...         0   \n",
            "\n",
            "   Rating_HR  Rating_nan  Status_Late  Status_Repaid  Status_nan  \\\n",
            "0          0           0            1              0           0   \n",
            "1          0           0            1              0           0   \n",
            "2          0           0            0              1           0   \n",
            "3          0           0            1              0           0   \n",
            "4          1           0            1              0           0   \n",
            "\n",
            "   Restructured_True  Restructured_nan  diff_days  Defaulted  \n",
            "0                  0                 0     1556.0          1  \n",
            "1                  0                 0     1849.0          1  \n",
            "2                  0                 0     1828.0          1  \n",
            "3                  0                 0     1832.0          1  \n",
            "4                  0                 0     1472.0          1  \n",
            "\n",
            "[5 rows x 72 columns]\n"
          ]
        }
      ]
    },
    {
      "cell_type": "markdown",
      "source": [
        "Split dataframe into X and y"
      ],
      "metadata": {
        "id": "XSmNN0uTsRn0"
      }
    },
    {
      "cell_type": "code",
      "source": [
        "X = df.iloc[:, :-1]\n",
        "\n",
        "Y = df.iloc[:,-1].astype(int)\n",
        "\n",
        "# Split into train and test\n",
        "\n",
        "X_train, X_test, y_train, y_test = train_test_split(X, Y, random_state = 1, test_size = 0.2)\n"
      ],
      "metadata": {
        "id": "Vg_t1e7Xq9Ol"
      },
      "execution_count": null,
      "outputs": []
    },
    {
      "cell_type": "markdown",
      "source": [
        "Split train into train1 and val1"
      ],
      "metadata": {
        "id": "gJEJSBUvstPd"
      }
    },
    {
      "cell_type": "code",
      "source": [
        "X_train1, X_val1, y_train1, y_val1 = train_test_split(X_train, y_train, random_state = 1, test_size = 0.15)"
      ],
      "metadata": {
        "id": "W5JdPoVTq9ex"
      },
      "execution_count": null,
      "outputs": []
    },
    {
      "cell_type": "code",
      "source": [
        "\n",
        "model = Sequential()\n",
        "model.add(Dense(100, input_dim=X_train1.shape[1], activation='relu',\n",
        "                kernel_initializer='random_normal'))\n",
        "model.add(Dense(50,activation='relu',kernel_initializer='random_normal'))\n",
        "model.add(Dense(25,activation='relu',kernel_initializer='random_normal'))\n",
        "model.add(Dense(1,activation='sigmoid',kernel_initializer='random_normal'))\n",
        "model.compile(loss='binary_crossentropy', \n",
        "              optimizer=tensorflow.keras.optimizers.Adam(),\n",
        "              metrics =['accuracy'])\n",
        "monitor = EarlyStopping(monitor='val_loss', min_delta=1e-3, \n",
        "    patience=5, verbose=1, mode='auto', restore_best_weights=True)\n",
        "\n",
        "model.fit(X_train1,y_train1,validation_data=(X_test,y_test),\n",
        "          callbacks=[monitor],verbose=2,epochs=1000)\n"
      ],
      "metadata": {
        "id": "tpZs5VkisuiH",
        "colab": {
          "base_uri": "https://localhost:8080/"
        },
        "outputId": "b4ac253a-1085-4710-87dc-d53727262526"
      },
      "execution_count": null,
      "outputs": [
        {
          "output_type": "stream",
          "name": "stdout",
          "text": [
            "Epoch 1/1000\n",
            "4442/4442 - 11s - loss: 0.3578 - accuracy: 0.8319 - val_loss: 0.3027 - val_accuracy: 0.8785 - 11s/epoch - 2ms/step\n",
            "Epoch 2/1000\n",
            "4442/4442 - 9s - loss: 0.2331 - accuracy: 0.9031 - val_loss: 0.2305 - val_accuracy: 0.9078 - 9s/epoch - 2ms/step\n",
            "Epoch 3/1000\n",
            "4442/4442 - 10s - loss: 0.2167 - accuracy: 0.9087 - val_loss: 0.1875 - val_accuracy: 0.9214 - 10s/epoch - 2ms/step\n",
            "Epoch 4/1000\n",
            "4442/4442 - 13s - loss: 0.2061 - accuracy: 0.9118 - val_loss: 0.1796 - val_accuracy: 0.9230 - 13s/epoch - 3ms/step\n",
            "Epoch 5/1000\n",
            "4442/4442 - 18s - loss: 0.1993 - accuracy: 0.9146 - val_loss: 0.2351 - val_accuracy: 0.8937 - 18s/epoch - 4ms/step\n",
            "Epoch 6/1000\n",
            "4442/4442 - 20s - loss: 0.1959 - accuracy: 0.9158 - val_loss: 0.1798 - val_accuracy: 0.9216 - 20s/epoch - 4ms/step\n",
            "Epoch 7/1000\n",
            "4442/4442 - 13s - loss: 0.1945 - accuracy: 0.9161 - val_loss: 0.1701 - val_accuracy: 0.9258 - 13s/epoch - 3ms/step\n",
            "Epoch 8/1000\n",
            "4442/4442 - 10s - loss: 0.1898 - accuracy: 0.9188 - val_loss: 0.3725 - val_accuracy: 0.8289 - 10s/epoch - 2ms/step\n",
            "Epoch 9/1000\n",
            "4442/4442 - 10s - loss: 0.1892 - accuracy: 0.9184 - val_loss: 0.1755 - val_accuracy: 0.9264 - 10s/epoch - 2ms/step\n",
            "Epoch 10/1000\n",
            "4442/4442 - 9s - loss: 0.1855 - accuracy: 0.9198 - val_loss: 0.1686 - val_accuracy: 0.9273 - 9s/epoch - 2ms/step\n",
            "Epoch 11/1000\n",
            "4442/4442 - 12s - loss: 0.1853 - accuracy: 0.9198 - val_loss: 0.1626 - val_accuracy: 0.9287 - 12s/epoch - 3ms/step\n",
            "Epoch 12/1000\n",
            "4442/4442 - 13s - loss: 0.1813 - accuracy: 0.9210 - val_loss: 0.1670 - val_accuracy: 0.9287 - 13s/epoch - 3ms/step\n",
            "Epoch 13/1000\n",
            "4442/4442 - 10s - loss: 0.1792 - accuracy: 0.9218 - val_loss: 0.1793 - val_accuracy: 0.9190 - 10s/epoch - 2ms/step\n",
            "Epoch 14/1000\n",
            "4442/4442 - 9s - loss: 0.1792 - accuracy: 0.9222 - val_loss: 0.2339 - val_accuracy: 0.8967 - 9s/epoch - 2ms/step\n",
            "Epoch 15/1000\n",
            "4442/4442 - 9s - loss: 0.1769 - accuracy: 0.9233 - val_loss: 0.1561 - val_accuracy: 0.9317 - 9s/epoch - 2ms/step\n",
            "Epoch 16/1000\n",
            "4442/4442 - 11s - loss: 0.1774 - accuracy: 0.9231 - val_loss: 0.1889 - val_accuracy: 0.9159 - 11s/epoch - 2ms/step\n",
            "Epoch 17/1000\n",
            "4442/4442 - 10s - loss: 0.1748 - accuracy: 0.9235 - val_loss: 0.1579 - val_accuracy: 0.9304 - 10s/epoch - 2ms/step\n",
            "Epoch 18/1000\n",
            "4442/4442 - 9s - loss: 0.1734 - accuracy: 0.9249 - val_loss: 0.2038 - val_accuracy: 0.9128 - 9s/epoch - 2ms/step\n",
            "Epoch 19/1000\n",
            "4442/4442 - 11s - loss: 0.1729 - accuracy: 0.9249 - val_loss: 0.1562 - val_accuracy: 0.9326 - 11s/epoch - 2ms/step\n",
            "Epoch 20/1000\n",
            "Restoring model weights from the end of the best epoch: 15.\n",
            "4442/4442 - 9s - loss: 0.1714 - accuracy: 0.9247 - val_loss: 0.1582 - val_accuracy: 0.9306 - 9s/epoch - 2ms/step\n",
            "Epoch 20: early stopping\n"
          ]
        },
        {
          "output_type": "execute_result",
          "data": {
            "text/plain": [
              "<keras.callbacks.History at 0x7f1fe7f56a10>"
            ]
          },
          "metadata": {},
          "execution_count": 29
        }
      ]
    },
    {
      "cell_type": "code",
      "source": [
        "pred = model.predict(X_test)\n",
        "pred"
      ],
      "metadata": {
        "colab": {
          "base_uri": "https://localhost:8080/"
        },
        "id": "GZj9OzaQz_Wq",
        "outputId": "51b55212-9711-4db0-e190-ad2ca1b27fb1"
      },
      "execution_count": null,
      "outputs": [
        {
          "output_type": "execute_result",
          "data": {
            "text/plain": [
              "array([[0.00305799],\n",
              "       [0.8280401 ],\n",
              "       [0.99999976],\n",
              "       ...,\n",
              "       [0.0304265 ],\n",
              "       [0.19987822],\n",
              "       [0.99999964]], dtype=float32)"
            ]
          },
          "metadata": {},
          "execution_count": 30
        }
      ]
    },
    {
      "cell_type": "code",
      "source": [
        "mse2 = mean_squared_error(pred1, y_test, squared=False)"
      ],
      "metadata": {
        "id": "cm-90dEXz_dn"
      },
      "execution_count": 57,
      "outputs": []
    },
    {
      "cell_type": "code",
      "source": [
        "mse2"
      ],
      "metadata": {
        "id": "N_mnZ8FUxR1B",
        "colab": {
          "base_uri": "https://localhost:8080/"
        },
        "outputId": "71a4bcc6-fe56-4653-b33f-fd4cf8b54026"
      },
      "execution_count": 58,
      "outputs": [
        {
          "output_type": "execute_result",
          "data": {
            "text/plain": [
              "0.2612934083581585"
            ]
          },
          "metadata": {},
          "execution_count": 58
        }
      ]
    },
    {
      "cell_type": "code",
      "source": [
        "pred1 = np.round(pred) # this takes continues output and transforms to binary values of 0 and 1"
      ],
      "metadata": {
        "id": "hgChC-It8MW9"
      },
      "execution_count": null,
      "outputs": []
    },
    {
      "cell_type": "code",
      "source": [
        "pred1 # this is the output target value array for the test dataset"
      ],
      "metadata": {
        "colab": {
          "base_uri": "https://localhost:8080/"
        },
        "id": "a4Zdoei-8Y1P",
        "outputId": "27f8af3e-77cb-4c30-af31-884721c085f9"
      },
      "execution_count": null,
      "outputs": [
        {
          "output_type": "execute_result",
          "data": {
            "text/plain": [
              "array([[0.],\n",
              "       [1.],\n",
              "       [1.],\n",
              "       ...,\n",
              "       [0.],\n",
              "       [0.],\n",
              "       [1.]], dtype=float32)"
            ]
          },
          "metadata": {},
          "execution_count": 34
        }
      ]
    },
    {
      "cell_type": "code",
      "source": [
        "from sklearn.metrics import accuracy_score\n",
        "from sklearn.metrics import f1_score\n",
        "from sklearn.metrics import precision_score\n",
        "from sklearn.metrics import recall_score\n",
        "from sklearn.metrics import roc_auc_score\n",
        "from sklearn.metrics import confusion_matrix\n",
        "from sklearn.metrics import f1_score"
      ],
      "metadata": {
        "id": "cO6_BTtB3KKR"
      },
      "execution_count": null,
      "outputs": []
    },
    {
      "cell_type": "code",
      "source": [
        "accuracy1 = accuracy_score(y_test, pred1)\n",
        "precision1 = precision_score(y_test, pred1)\n",
        "recall1 = recall_score(y_test, pred1)\n",
        "F1_score = f1_score(y_test, pred1)\n",
        "confusion_mat_test = confusion_matrix(y_test, pred1)"
      ],
      "metadata": {
        "id": "b2VuLNtu3Oke"
      },
      "execution_count": null,
      "outputs": []
    },
    {
      "cell_type": "code",
      "source": [
        "confusion_mat_test"
      ],
      "metadata": {
        "id": "NlA3T4WZ3PTG",
        "colab": {
          "base_uri": "https://localhost:8080/"
        },
        "outputId": "2aba60fb-c983-4c36-d84e-8d57166281a7"
      },
      "execution_count": null,
      "outputs": [
        {
          "output_type": "execute_result",
          "data": {
            "text/plain": [
              "array([[26101,  1086],\n",
              "       [ 1768, 12847]])"
            ]
          },
          "metadata": {},
          "execution_count": 37
        }
      ]
    },
    {
      "cell_type": "code",
      "source": [
        "accuracy1"
      ],
      "metadata": {
        "id": "un8VE8lI3PcG",
        "colab": {
          "base_uri": "https://localhost:8080/"
        },
        "outputId": "a41f3d3e-9f4d-4764-d4f7-4e259ecf5735"
      },
      "execution_count": null,
      "outputs": [
        {
          "output_type": "execute_result",
          "data": {
            "text/plain": [
              "0.9317257547485767"
            ]
          },
          "metadata": {},
          "execution_count": 38
        }
      ]
    },
    {
      "cell_type": "code",
      "source": [
        "precision1"
      ],
      "metadata": {
        "colab": {
          "base_uri": "https://localhost:8080/"
        },
        "id": "ZbBvms2N8js1",
        "outputId": "ac852596-7dc0-4a2a-a5b4-a68076d6a792"
      },
      "execution_count": null,
      "outputs": [
        {
          "output_type": "execute_result",
          "data": {
            "text/plain": [
              "0.9220555515682194"
            ]
          },
          "metadata": {},
          "execution_count": 39
        }
      ]
    },
    {
      "cell_type": "code",
      "source": [
        "recall1"
      ],
      "metadata": {
        "colab": {
          "base_uri": "https://localhost:8080/"
        },
        "id": "Fqf90_vf8mtW",
        "outputId": "832a111e-578a-4eb2-b844-88720b1572b4"
      },
      "execution_count": null,
      "outputs": [
        {
          "output_type": "execute_result",
          "data": {
            "text/plain": [
              "0.8790283954840917"
            ]
          },
          "metadata": {},
          "execution_count": 40
        }
      ]
    },
    {
      "cell_type": "code",
      "source": [
        "F1_score"
      ],
      "metadata": {
        "colab": {
          "base_uri": "https://localhost:8080/"
        },
        "id": "AHcb0Rur8nNi",
        "outputId": "cc5aedde-3f78-4c3d-b565-5f8d462d28df"
      },
      "execution_count": null,
      "outputs": [
        {
          "output_type": "execute_result",
          "data": {
            "text/plain": [
              "0.9000280229788427"
            ]
          },
          "metadata": {},
          "execution_count": 41
        }
      ]
    },
    {
      "cell_type": "code",
      "source": [
        "auc= roc_auc_score(y_test, pred1)\n",
        "\n",
        "print(auc)"
      ],
      "metadata": {
        "colab": {
          "base_uri": "https://localhost:8080/"
        },
        "id": "UU2JwR46xvOl",
        "outputId": "ca85e0f3-2e36-4709-db85-b5640ce7841d"
      },
      "execution_count": null,
      "outputs": [
        {
          "output_type": "stream",
          "name": "stdout",
          "text": [
            "0.9195414166334277\n"
          ]
        }
      ]
    },
    {
      "cell_type": "code",
      "source": [
        "# Plot an ROC. pred - the predictions, y - the expected output.\n",
        "def plot_roc(pred,y):\n",
        "    fpr, tpr, _ = roc_curve(y, pred)\n",
        "    roc_auc = auc(fpr, tpr)\n",
        "\n",
        "    plt.figure()\n",
        "    plt.plot(fpr, tpr, label='ROC curve (area = %0.2f)' % roc_auc)\n",
        "    plt.plot([0, 1], [0, 1], 'k--')\n",
        "    plt.xlim([0.0, 1.0])\n",
        "    plt.ylim([0.0, 1.05])\n",
        "    plt.xlabel('False Positive Rate')\n",
        "    plt.ylabel('True Positive Rate')\n",
        "    plt.title('Receiver Operating Characteristic (ROC)')\n",
        "    plt.legend(loc=\"lower right\")\n",
        "    plt.show()"
      ],
      "metadata": {
        "id": "4rOl9Cb5xvWa"
      },
      "execution_count": 51,
      "outputs": []
    },
    {
      "cell_type": "code",
      "source": [
        "pred = model.predict(X_test)\n",
        "plot_roc(pred1, y_test)"
      ],
      "metadata": {
        "colab": {
          "base_uri": "https://localhost:8080/",
          "height": 295
        },
        "id": "5e1LpAKUxvY6",
        "outputId": "ef5f7f86-e00f-48ff-c88b-b40f26789d0c"
      },
      "execution_count": 56,
      "outputs": [
        {
          "output_type": "display_data",
          "data": {
            "text/plain": [
              "<Figure size 432x288 with 1 Axes>"
            ],
            "image/png": "[encoded data removed]"
          },
          "metadata": {
            "needs_background": "light"
          }
        }
      ]
    },
    {
      "cell_type": "code",
      "source": [
        ""
      ],
      "metadata": {
        "id": "wf8hrQImxvcE"
      },
      "execution_count": null,
      "outputs": []
    }
  ]
}