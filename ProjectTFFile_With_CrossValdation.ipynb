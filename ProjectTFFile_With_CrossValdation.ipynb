{
  "cells": [
    {
      "cell_type": "markdown",
      "metadata": {
        "id": "eGDp-P08VWxL"
      },
      "source": [
        "This is Ramkishore Rao's Project - Application of Tensor Flow and Keras for Loan Dataset"
      ]
    },
    {
      "cell_type": "code",
      "execution_count": null,
      "metadata": {
        "id": "Z63s5TD4VWRk"
      },
      "outputs": [],
      "source": [
        "import tensorflow.keras\n",
        "from tensorflow . keras .models import Sequential\n",
        "from tensorflow . keras . layers import Dense , Activation\n",
        "from tensorflow . keras . callbacks import EarlyStopping\n",
        "from sklearn . model_selection import train_test_split"
      ]
    },
    {
      "cell_type": "code",
      "execution_count": null,
      "metadata": {
        "id": "M7F7rUn0VmSV"
      },
      "outputs": [],
      "source": [
        "import numpy as np\n",
        "import pandas as pd\n",
        "from sklearn import metrics\n",
        "import sklearn\n",
        "from sklearn.model_selection import train_test_split\n",
        "import io\n",
        "import requests\n",
        "from sklearn.metrics import RocCurveDisplay\n",
        "from sklearn.metrics import mean_squared_error\n",
        "from sklearn.metrics import roc_curve, auc\n",
        "import matplotlib.pyplot as plt\n",
        "from sklearn.model_selection import StratifiedKFold\n",
        "\n"
      ]
    },
    {
      "cell_type": "code",
      "execution_count": null,
      "metadata": {
        "colab": {
          "base_uri": "https://localhost:8080/"
        },
        "id": "e4PI0BBdkE7p",
        "outputId": "247c4a31-1f81-4429-c310-6ab35ae969a0"
      },
      "outputs": [
        {
          "output_type": "stream",
          "name": "stdout",
          "text": [
            "Looking in indexes: https://pypi.org/simple, https://us-python.pkg.dev/colab-wheels/public/simple/\n",
            "Collecting theano\n",
            "  Downloading Theano-1.0.5.tar.gz (2.8 MB)\n",
            "\u001b[K     |████████████████████████████████| 2.8 MB 6.6 MB/s \n",
            "\u001b[?25hRequirement already satisfied: numpy>=1.9.1 in /usr/local/lib/python3.7/dist-packages (from theano) (1.21.6)\n",
            "Requirement already satisfied: scipy>=0.14 in /usr/local/lib/python3.7/dist-packages (from theano) (1.4.1)\n",
            "Requirement already satisfied: six>=1.9.0 in /usr/local/lib/python3.7/dist-packages (from theano) (1.15.0)\n",
            "Building wheels for collected packages: theano\n",
            "  Building wheel for theano (setup.py) ... \u001b[?25l\u001b[?25hdone\n",
            "  Created wheel for theano: filename=Theano-1.0.5-py3-none-any.whl size=2668111 sha256=e4aa5511df570b341a9762898386f04f8b32a624c444588cc4bd6a4405d9005c\n",
            "  Stored in directory: /root/.cache/pip/wheels/26/68/6f/745330367ce7822fe0cd863712858151f5723a0a5e322cc144\n",
            "Successfully built theano\n",
            "Installing collected packages: theano\n",
            "Successfully installed theano-1.0.5\n"
          ]
        }
      ],
      "source": [
        "!pip install theano"
      ]
    },
    {
      "cell_type": "code",
      "execution_count": 47,
      "metadata": {
        "id": "mkFu3gdwVmZU"
      },
      "outputs": [],
      "source": [
        "df = pd.read_csv('/content/initialmodel2.csv', on_bad_lines=\"skip\", engine=\"python\")\n"
      ]
    },
    {
      "cell_type": "code",
      "execution_count": 48,
      "metadata": {
        "colab": {
          "base_uri": "https://localhost:8080/"
        },
        "id": "xGCcFtXipn9e",
        "outputId": "39cd57c6-5066-44d3-a9a3-10520a2b4caa"
      },
      "outputs": [
        {
          "output_type": "execute_result",
          "data": {
            "text/plain": [
              "209011"
            ]
          },
          "metadata": {},
          "execution_count": 48
        }
      ],
      "source": [
        "df.head()\n",
        "len(df)"
      ]
    },
    {
      "cell_type": "code",
      "execution_count": 49,
      "metadata": {
        "colab": {
          "base_uri": "https://localhost:8080/"
        },
        "id": "bkEuRwa6poFk",
        "outputId": "66acb404-623c-4160-be69-8318e592dcd3"
      },
      "outputs": [
        {
          "output_type": "stream",
          "name": "stdout",
          "text": [
            "   VerificationType  LanguageCode       Age  Gender  AppliedAmount    Amount  \\\n",
            "0               4.0             1  0.673077     1.0       0.192041  0.192041   \n",
            "1               1.0             1  0.615385     1.0       0.275145  0.275145   \n",
            "2               4.0             1  0.500000     0.0       0.999810  0.854497   \n",
            "3               3.0             6  0.461538     0.0       0.132681  0.132681   \n",
            "4               4.0             6  0.307692     1.0       0.141704  0.093741   \n",
            "\n",
            "   Interest  LoanDuration  MonthlyPayment  UseOfLoan  ...  Rating_F  \\\n",
            "0  0.053336      0.487179        0.026198          2  ...         0   \n",
            "1  0.038358      0.487179        0.035782          3  ...         0   \n",
            "2  0.024937      0.487179        0.113391          3  ...         0   \n",
            "3  0.128924      0.487179        0.026822          2  ...         1   \n",
            "4  0.237814      0.384615        0.042723          7  ...         0   \n",
            "\n",
            "   Rating_HR  Rating_nan  Status_Late  Status_Repaid  Status_nan  \\\n",
            "0          0           0            1              0           0   \n",
            "1          0           0            1              0           0   \n",
            "2          0           0            0              1           0   \n",
            "3          0           0            1              0           0   \n",
            "4          1           0            1              0           0   \n",
            "\n",
            "   Restructured_True  Restructured_nan  diff_days  Defaulted  \n",
            "0                  0                 0     1556.0          1  \n",
            "1                  0                 0     1849.0          1  \n",
            "2                  0                 0     1828.0          1  \n",
            "3                  0                 0     1832.0          1  \n",
            "4                  0                 0     1472.0          1  \n",
            "\n",
            "[5 rows x 72 columns]\n"
          ]
        }
      ],
      "source": [
        "df1 = df.pop('Defaulted')\n",
        "\n",
        "df['Defaulted'] = df1\n",
        "\n",
        "df.drop(['Unnamed: 0'] , axis = 1, inplace =True)\n",
        "\n",
        "df = df.dropna()\n",
        "print(df.head())\n",
        "\n"
      ]
    },
    {
      "cell_type": "markdown",
      "metadata": {
        "id": "XSmNN0uTsRn0"
      },
      "source": [
        "Split dataframe into X and y"
      ]
    },
    {
      "cell_type": "code",
      "source": [
        "df = df.iloc[0:20000]"
      ],
      "metadata": {
        "id": "6RVQXFa51G8g"
      },
      "execution_count": 50,
      "outputs": []
    },
    {
      "cell_type": "code",
      "execution_count": 51,
      "metadata": {
        "id": "Vg_t1e7Xq9Ol"
      },
      "outputs": [],
      "source": [
        "X = df.iloc[:, :-1]\n",
        "\n",
        "Y = df.iloc[:,-1].astype(int)\n",
        "\n",
        "# Split into train and test\n",
        "\n",
        "X_train, X_test, y_train, y_test = train_test_split(X, Y, random_state = 1, test_size = 0.2)\n"
      ]
    },
    {
      "cell_type": "markdown",
      "metadata": {
        "id": "gJEJSBUvstPd"
      },
      "source": [
        "Split train into train1 and val1"
      ]
    },
    {
      "cell_type": "code",
      "execution_count": 52,
      "metadata": {
        "id": "W5JdPoVTq9ex"
      },
      "outputs": [],
      "source": [
        "X_train1, X_val1, y_train1, y_val1 = train_test_split(X_train, y_train, random_state = 1, test_size = 0.15)\n"
      ]
    },
    {
      "cell_type": "code",
      "source": [
        "X = X_train.to_numpy()\n",
        "y = y_train.to_numpy()"
      ],
      "metadata": {
        "id": "llDjdJ2qxG4O"
      },
      "execution_count": 53,
      "outputs": []
    },
    {
      "cell_type": "code",
      "source": [
        "len(X)"
      ],
      "metadata": {
        "colab": {
          "base_uri": "https://localhost:8080/"
        },
        "id": "-VCb6vYbyx44",
        "outputId": "1cff5951-9452-4299-8127-35f9082a41ce"
      },
      "execution_count": 54,
      "outputs": [
        {
          "output_type": "execute_result",
          "data": {
            "text/plain": [
              "16000"
            ]
          },
          "metadata": {},
          "execution_count": 54
        }
      ]
    },
    {
      "cell_type": "code",
      "source": [
        "len(y)"
      ],
      "metadata": {
        "colab": {
          "base_uri": "https://localhost:8080/"
        },
        "id": "Ng2wT37EyyEA",
        "outputId": "bf576aa7-b57b-40ca-f9c3-c968df68ced7"
      },
      "execution_count": 55,
      "outputs": [
        {
          "output_type": "execute_result",
          "data": {
            "text/plain": [
              "16000"
            ]
          },
          "metadata": {},
          "execution_count": 55
        }
      ]
    },
    {
      "cell_type": "code",
      "execution_count": 56,
      "metadata": {
        "id": "QRRi_jEao3t-"
      },
      "outputs": [],
      "source": [
        "KFold = StratifiedKFold(n_splits =5, shuffle = True)\n",
        "cvscores = []"
      ]
    },
    {
      "cell_type": "code",
      "execution_count": 57,
      "metadata": {
        "colab": {
          "base_uri": "https://localhost:8080/"
        },
        "id": "tpZs5VkisuiH",
        "outputId": "8235cf95-a9a6-461b-fc6a-df4eda768ba8"
      },
      "outputs": [
        {
          "output_type": "stream",
          "name": "stdout",
          "text": [
            "accuracy: 93.94%\n",
            "accuracy: 93.78%\n",
            "accuracy: 94.03%\n",
            "accuracy: 93.62%\n",
            "accuracy: 92.34%\n",
            "93.54% (+/- 0.62%)\n"
          ]
        }
      ],
      "source": [
        "for train, test in KFold.split(X, y):\n",
        "  model = Sequential()\n",
        "  model.add(Dense(100, input_dim=X_train1.shape[1], activation='relu',\n",
        "                  kernel_initializer='random_normal'))\n",
        "  model.add(Dense(50,activation='relu',kernel_initializer='random_normal'))\n",
        "  model.add(Dense(25,activation='relu',kernel_initializer='random_normal'))\n",
        "  model.add(Dense(1,activation='sigmoid',kernel_initializer='random_normal'))\n",
        "  model.compile(loss='binary_crossentropy', \n",
        "                optimizer=tensorflow.keras.optimizers.Adam(),\n",
        "                metrics =['accuracy'])\n",
        "  model.fit(X[train], y[train], epochs = 150, batch_size = 10, verbose = 0)\n",
        "  scores = model.evaluate(X[test], y[test], verbose = 0)\n",
        "  print(\"%s: %.2f%%\" % (model.metrics_names[1], scores[1]*100))\n",
        "  cvscores.append(scores[1]*100)\n",
        "\n",
        "print(\"%.2f%% (+/- %.2f%%)\" % (np.mean(cvscores), np.std(cvscores)))\n",
        "\n",
        "\n"
      ]
    },
    {
      "cell_type": "code",
      "execution_count": 58,
      "metadata": {
        "colab": {
          "base_uri": "https://localhost:8080/"
        },
        "id": "GZj9OzaQz_Wq",
        "outputId": "67fe9fe8-d876-48e4-e9d8-e4b3e4f0ef59"
      },
      "outputs": [
        {
          "output_type": "execute_result",
          "data": {
            "text/plain": [
              "array([[1.        ],\n",
              "       [1.        ],\n",
              "       [1.        ],\n",
              "       ...,\n",
              "       [0.72675365],\n",
              "       [0.40635297],\n",
              "       [0.71952754]], dtype=float32)"
            ]
          },
          "metadata": {},
          "execution_count": 58
        }
      ],
      "source": [
        "pred = model.predict(X_test)\n",
        "pred"
      ]
    },
    {
      "cell_type": "code",
      "execution_count": 59,
      "metadata": {
        "id": "cm-90dEXz_dn"
      },
      "outputs": [],
      "source": [
        "mse2 = mean_squared_error(pred, y_test, squared=False)"
      ]
    },
    {
      "cell_type": "code",
      "execution_count": 60,
      "metadata": {
        "colab": {
          "base_uri": "https://localhost:8080/"
        },
        "id": "N_mnZ8FUxR1B",
        "outputId": "ae86513e-afb9-4cc5-e204-757ca224e1b8"
      },
      "outputs": [
        {
          "output_type": "execute_result",
          "data": {
            "text/plain": [
              "0.22324782578902666"
            ]
          },
          "metadata": {},
          "execution_count": 60
        }
      ],
      "source": [
        "mse2"
      ]
    },
    {
      "cell_type": "code",
      "execution_count": 61,
      "metadata": {
        "id": "hgChC-It8MW9",
        "colab": {
          "base_uri": "https://localhost:8080/"
        },
        "outputId": "69652100-0ed5-45c4-a2fc-a6aa1195e112"
      },
      "outputs": [
        {
          "output_type": "execute_result",
          "data": {
            "text/plain": [
              "(4000, 1)"
            ]
          },
          "metadata": {},
          "execution_count": 61
        }
      ],
      "source": [
        "pred1 = np.round(pred) # this takes continues output and transforms to binary values of 0 and 1\n",
        "pred1.shape"
      ]
    },
    {
      "cell_type": "code",
      "execution_count": 62,
      "metadata": {
        "colab": {
          "base_uri": "https://localhost:8080/"
        },
        "id": "a4Zdoei-8Y1P",
        "outputId": "3962c470-b61b-4ac5-8f05-fd4a5d2717ee"
      },
      "outputs": [
        {
          "output_type": "execute_result",
          "data": {
            "text/plain": [
              "array([[1.],\n",
              "       [1.],\n",
              "       [1.],\n",
              "       ...,\n",
              "       [1.],\n",
              "       [0.],\n",
              "       [1.]], dtype=float32)"
            ]
          },
          "metadata": {},
          "execution_count": 62
        }
      ],
      "source": [
        "pred1 # this is the output target value array for the test dataset"
      ]
    },
    {
      "cell_type": "code",
      "execution_count": 63,
      "metadata": {
        "id": "cO6_BTtB3KKR"
      },
      "outputs": [],
      "source": [
        "from sklearn.metrics import accuracy_score\n",
        "from sklearn.metrics import f1_score\n",
        "from sklearn.metrics import precision_score\n",
        "from sklearn.metrics import recall_score\n",
        "from sklearn.metrics import roc_auc_score\n",
        "from sklearn.metrics import confusion_matrix\n",
        "from sklearn.metrics import f1_score"
      ]
    },
    {
      "cell_type": "code",
      "execution_count": 64,
      "metadata": {
        "id": "b2VuLNtu3Oke"
      },
      "outputs": [],
      "source": [
        "accuracy1 = accuracy_score(y_test, pred1)\n",
        "precision1 = precision_score(y_test, pred1)\n",
        "recall1 = recall_score(y_test, pred1)\n",
        "F1_score = f1_score(y_test, pred1)\n",
        "confusion_mat_test = confusion_matrix(y_test, pred1)"
      ]
    },
    {
      "cell_type": "code",
      "execution_count": 65,
      "metadata": {
        "colab": {
          "base_uri": "https://localhost:8080/"
        },
        "id": "NlA3T4WZ3PTG",
        "outputId": "8ac58b0f-498d-4fad-c42a-b1f3459be17a"
      },
      "outputs": [
        {
          "output_type": "execute_result",
          "data": {
            "text/plain": [
              "array([[ 751,  187],\n",
              "       [  91, 2971]])"
            ]
          },
          "metadata": {},
          "execution_count": 65
        }
      ],
      "source": [
        "confusion_mat_test"
      ]
    },
    {
      "cell_type": "code",
      "execution_count": 66,
      "metadata": {
        "colab": {
          "base_uri": "https://localhost:8080/"
        },
        "id": "un8VE8lI3PcG",
        "outputId": "ecf0ee65-a142-4a5f-98dd-5ea2935d62d6"
      },
      "outputs": [
        {
          "output_type": "execute_result",
          "data": {
            "text/plain": [
              "0.9305"
            ]
          },
          "metadata": {},
          "execution_count": 66
        }
      ],
      "source": [
        "accuracy1"
      ]
    },
    {
      "cell_type": "code",
      "execution_count": 67,
      "metadata": {
        "colab": {
          "base_uri": "https://localhost:8080/"
        },
        "id": "ZbBvms2N8js1",
        "outputId": "361e16c1-2f55-46d6-ac77-f5f9c63155f1"
      },
      "outputs": [
        {
          "output_type": "execute_result",
          "data": {
            "text/plain": [
              "0.9407853071564282"
            ]
          },
          "metadata": {},
          "execution_count": 67
        }
      ],
      "source": [
        "precision1"
      ]
    },
    {
      "cell_type": "code",
      "execution_count": 68,
      "metadata": {
        "colab": {
          "base_uri": "https://localhost:8080/"
        },
        "id": "Fqf90_vf8mtW",
        "outputId": "50e61355-59a8-4a09-abd3-2c7570238d58"
      },
      "outputs": [
        {
          "output_type": "execute_result",
          "data": {
            "text/plain": [
              "0.9702808621815807"
            ]
          },
          "metadata": {},
          "execution_count": 68
        }
      ],
      "source": [
        "recall1"
      ]
    },
    {
      "cell_type": "code",
      "execution_count": null,
      "metadata": {
        "colab": {
          "base_uri": "https://localhost:8080/"
        },
        "id": "AHcb0Rur8nNi",
        "outputId": "22e114bb-7428-4514-dcee-161be1f9cde9"
      },
      "outputs": [
        {
          "output_type": "execute_result",
          "data": {
            "text/plain": [
              "0.9142857142857144"
            ]
          },
          "metadata": {},
          "execution_count": 28
        }
      ],
      "source": [
        "F1_score"
      ]
    },
    {
      "cell_type": "code",
      "execution_count": 69,
      "metadata": {
        "colab": {
          "base_uri": "https://localhost:8080/"
        },
        "id": "UU2JwR46xvOl",
        "outputId": "defbf64c-6d47-406c-cc3b-6209caebb123"
      },
      "outputs": [
        {
          "output_type": "stream",
          "name": "stdout",
          "text": [
            "0.9796508267656772\n"
          ]
        }
      ],
      "source": [
        "auc= roc_auc_score(y_test, pred)\n",
        "\n",
        "print(auc)"
      ]
    },
    {
      "cell_type": "code",
      "execution_count": 70,
      "metadata": {
        "id": "4rOl9Cb5xvWa",
        "colab": {
          "base_uri": "https://localhost:8080/",
          "height": 295
        },
        "outputId": "7448132e-6b96-48d6-e781-0f8b7970e5c5"
      },
      "outputs": [
        {
          "output_type": "display_data",
          "data": {
            "text/plain": [
              "<Figure size 432x288 with 1 Axes>"
            ],
            "image/png": "[encoded data removed]"
          },
          "metadata": {
            "needs_background": "light"
          }
        }
      ],
      "source": [
        "def plot_roc_curve(fper, tper):  \n",
        "    plt.plot(fper, tper, color='orange', label='ROC')\n",
        "    plt.plot([0, 1], [0, 1], color='darkblue', linestyle='--')\n",
        "    plt.xlabel('False Positive Rate')\n",
        "    plt.ylabel('True Positive Rate')\n",
        "    plt.title('Receiver Operating Characteristic (ROC) Curve')\n",
        "    plt.legend()\n",
        "    plt.show()\n",
        "    \n",
        "probs = model.predict(X_test)\n",
        "fper, tper, thresholds = roc_curve(y_test, probs) \n",
        "plot_roc_curve(fper, tper)"
      ]
    },
    {
      "cell_type": "code",
      "execution_count": null,
      "metadata": {
        "id": "wf8hrQImxvcE"
      },
      "outputs": [],
      "source": [
        ""
      ]
    }
  ],
  "metadata": {
    "colab": {
      "name": "ProjectTFFile - With Tuning.ipynb",
      "provenance": []
    },
    "kernelspec": {
      "display_name": "Python 3",
      "name": "python3"
    },
    "language_info": {
      "name": "python"
    }
  },
  "nbformat": 4,
  "nbformat_minor": 0
}